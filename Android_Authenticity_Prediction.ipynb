{
  "nbformat": 4,
  "nbformat_minor": 0,
  "metadata": {
    "colab": {
      "name": "Android Authenticity Prediction.ipynb",
      "provenance": [],
      "collapsed_sections": [],
      "mount_file_id": "1NBNhRkeIpvCFpuI0cul5-VxsxquUeU6e",
      "authorship_tag": "ABX9TyMwzw/bjle7y+86eaTxpx3a",
      "include_colab_link": true
    },
    "kernelspec": {
      "name": "python3",
      "display_name": "Python 3"
    },
    "language_info": {
      "name": "python"
    }
  },
  "cells": [
    {
      "cell_type": "markdown",
      "metadata": {
        "id": "view-in-github",
        "colab_type": "text"
      },
      "source": [
        "<a href=\"https://colab.research.google.com/github/manisha-dhanuka/Supervised-Classification/blob/main/Android_Authenticity_Prediction.ipynb\" target=\"_parent\"><img src=\"https://colab.research.google.com/assets/colab-badge.svg\" alt=\"Open In Colab\"/></a>"
      ]
    },
    {
      "cell_type": "markdown",
      "source": [
        "# **Problem Statement**"
      ],
      "metadata": {
        "id": "RDh4vVdHHCSr"
      }
    },
    {
      "cell_type": "markdown",
      "source": [
        "This dataset consists of apps needed permissions during installation and run-time. We collect apps from three different sources google play, third-party apps and malware dataset. This file contains more than 30,000 Android apps. features extracted at the time of installation and execution. One file contains the name of the features and others contain .apk file corresponding to it extracted permissions with respective package. Apps are collected from Google's play store, hiapk, app china,  Android,  mumayi , gfan  slideme, and pandaapp.  These .apk files collected from the last three years continuously and contain 81 distinct malware families. But, Here you are only supposed to predict whether the app is benign(0) or malware(1)."
      ],
      "metadata": {
        "id": "UNcDu9FQHGVS"
      }
    },
    {
      "cell_type": "markdown",
      "source": [
        "# **Attribute Information**"
      ],
      "metadata": {
        "id": "H_DAqfG-HMiD"
      }
    },
    {
      "cell_type": "markdown",
      "source": [
        "1 . App :- Name of the App\n",
        " \n",
        "2 . Package :- OBB/Data package installed in root folder\n",
        " \n",
        "3 . Category :-  App Category (eg. Entertainment, Adventure, puzzle, Action, Antivirus, etc.)\n",
        " \n",
        "4 . Description :- App Description\n",
        " \n",
        "5 . Rating :-  Rating out of 5\n",
        " \n",
        "6 . Number of ratings :- No. of Ratings given by users\n",
        " \n",
        "7 . Price :- Price of the App\n",
        " \n",
        "8 . Related apps :-  Apps related to installed App\n",
        " \n",
        "9 . Dangerous **(D)** permissions count :- No. of Dangerous Permissions allowed by user\n",
        " \n",
        "10 . Safe **(S)** permissions count :- No. of Safe Permissions allowed by user\n",
        " \n",
        "11 . Default : Access DRM content. (S) :- 0 : No , 1 : Yes \n",
        " \n",
        "12 . Default : Access Email provider data (S) :- 0 : No , 1 : Yes \n",
        " \n",
        "13 . Default : Access all system downloads (S) :- 0 : No , 1 : Yes \n",
        " \n",
        "14 . Default : Access download manager. (S) :- 0 : No , 1 : Yes \n",
        " \n",
        "15 . Default : Advanced download manager functions. (S) :- 0 : No , 1 : Yes \n",
        " \n",
        "16 . Default : Audio File Access (S) :- 0 : No , 1 : Yes \n",
        " \n",
        "17 . Default : Install DRM content. (S) :- 0 : No , 1 : Yes \n",
        " \n",
        "18 . Default : Modify Google service configuration (S) :- 0 : No , 1 : Yes \n",
        " \n",
        "19 . Default : Modify Google settings (S) :- 0 : No , 1 : Yes \n",
        " \n",
        "20 . Default : Move application resources (S) :- 0 : No , 1 : Yes \n",
        " \n",
        "21 . Default : Read Google settings (S) :- 0 : No , 1 : Yes \n",
        " \n",
        "22 . Default : Send download notifications. (S) :- 0 : No , 1 : Yes \n",
        " \n",
        "23 . Default : Voice Search Shortcuts (S) :- 0 : No , 1 : Yes \n",
        " \n",
        "24 . Default : access SurfaceFlinger (S) :- 0 : No , 1 : Yes \n",
        " \n",
        "25 . Default : access checkin properties (S) :- 0 : No , 1 : Yes \n",
        " \n",
        "26 . Default : access the cache filesystem (S) :- 0 : No , 1 : Yes \n",
        " \n",
        "27 . Default : access to passwords for Google accounts (S) :- 0 : No , 1 : Yes \n",
        " \n",
        "28 . Default : act as an account authenticator (S) :- 0 : No , 1 : Yes \n",
        " \n",
        "29 . Default : bind to a wallpaper (S) :- 0 : No , 1 : Yes \n",
        " \n",
        "30 . Default : bind to an input method (S) :- 0 : No , 1 : Yes \n",
        " \n",
        "31 . Default : change screen orientation (S) :- 0 : No , 1 : Yes \n",
        " \n",
        "32 . Default : coarse (network-based) location (S) :- 0 : No , 1 : Yes \n",
        " \n",
        "33 . Default : control location update notifications (S) :- 0 : No , 1 : Yes \n",
        " \n",
        "34 . Default : control system backup and restore (S) :- 0 : No , 1 : Yes \n",
        " \n",
        "35 . Default : delete applications (S) :- 0 : No , 1 : Yes \n",
        " \n",
        "36 . Default : delete other applications' caches (S) :- 0 : No , 1 : Yes \n",
        " \n",
        "37 . Default : delete other applications' data (S) :- 0 : No , 1 : Yes \n",
        " \n",
        "38 . Default : directly call any phone numbers (S) :- 0 : No , 1 : Yes \n",
        " \n",
        "39 . Default : directly install applications (S) :- 0 : No , 1 : Yes \n",
        " \n",
        "40 . Default : disable or modify status bar (S) :- 0 : No , 1 : Yes \n",
        " \n",
        "41 . Default : discover known accounts (S) :- 0 : No , 1 : Yes \n",
        " \n",
        "42 . Default : display unauthorized windows (S) :- 0 : No , 1 : Yes \n",
        " \n",
        "43 . Default : enable or disable application components (S) :- 0 : No , 1 : Yes \n",
        " \n",
        "44 . Default : force application to close (S) :- 0 : No , 1 : Yes \n",
        " \n",
        "45 . Default : force device reboot (S) :- 0 : No , 1 : Yes \n",
        " \n",
        "46 . Default : full Internet access (S) :- 0 : No , 1 : Yes \n",
        " \n",
        "47 . Default : interact with a device admin (S) :- 0 : No , 1 : Yes \n",
        " \n",
        "48 . Default : manage application tokens (S) :- 0 : No , 1 : Yes \n",
        " \n",
        "49 . Default : mock location sources for testing (S) :- 0 : No , 1 : Yes \n",
        " \n",
        "50 . Default : modify battery statistics (S) :- 0 : No , 1 : Yes \n",
        " \n",
        "51 . Default : modify secure system settings (S) :- 0 : No , 1 : Yes \n",
        " \n",
        "52 . Default : modify the Google services map (S) :- 0 : No , 1 : Yes \n",
        " \n",
        "53 . Default : modify/delete USB storage contents modify/delete SD card contents (S) :- 0 : No , 1 : Yes \n",
        " \n",
        "54 . Default : monitor and control all application launching (S) :- 0 : No , 1 : Yes \n",
        " \n",
        "55 . Default : partial shutdown (S) :- 0 : No , 1 : Yes \n",
        " \n",
        "56 . Default : permanently disable device (S) :- 0 : No , 1 : Yes \n",
        " \n",
        "57 . Default : permission to install a location provider (S) :- 0 : No , 1 : Yes \n",
        " \n",
        "58 . Default : power device on or off (S) :- 0 : No , 1 : Yes \n",
        " \n",
        "59 . Default : press keys and control buttons (S) :- 0 : No , 1 : Yes \n",
        " \n",
        "60 . Default : prevent app switches (S) :- 0 : No , 1 : Yes \n",
        " \n",
        "61 . Default : read frame buffer (S) :- 0 : No , 1 : Yes \n",
        " \n",
        "62 . Default : read instant messages (S) :- 0 : No , 1 : Yes \n",
        " \n",
        "63 . Default : read phone state and identity (S) :- 0 : No , 1 : Yes \n",
        " \n",
        "64 . Default : record what you type and actions you take (S) :- 0 : No , 1 : Yes \n",
        " \n",
        "65 . Default : reset system to factory defaults (S) :- 0 : No , 1 : Yes \n",
        " \n",
        "66 . Default : run in factory test mode (S) :- 0 : No , 1 : Yes \n",
        " \n",
        "67 . Default : set time (S) :- 0 : No , 1 : Yes \n",
        " \n",
        "68 . Default : set wallpaper size hints (S) :- 0 : No , 1 : Yes \n",
        " \n",
        "69 . Default : start IM service (S) :- 0 : No , 1 : Yes \n",
        " \n",
        "70 . Default : update component usage statistics (S) :- 0 : No , 1 : Yes \n",
        " \n",
        "71 . Default : write contact data (S) :- 0 : No , 1 : Yes \n",
        " \n",
        "72 . Default : write instant messages (S) :- 0 : No , 1 : Yes \n",
        " \n",
        "73 . Development tools : enable application debugging (D) :- 0 : No , 1 : Yes \n",
        " \n",
        "74 . Development tools : limit number of running processes (D) :- 0 : No , 1 : Yes \n",
        " \n",
        "75 . Development tools : make all background applications close (D) :- 0 : No , 1 : Yes \n",
        " \n",
        "76 . Development tools : send Linux signals to applications (D) :- 0 : No , 1 : Yes \n",
        " \n",
        "77 . Hardware controls : change your audio settings (D) :- 0 : No , 1 : Yes \n",
        " \n",
        "78 . Hardware controls : control flashlight (S) :- 0 : No , 1 : Yes \n",
        " \n",
        "79 . Hardware controls : control vibrator (S) :- 0 : No , 1 : Yes \n",
        " \n",
        "80 . Hardware controls : record audio (D) :- 0 : No , 1 : Yes \n",
        " \n",
        "81 . Hardware controls : take pictures and videos (D) :- 0 : No , 1 : Yes \n",
        " \n",
        "82 . Hardware controls : test hardware (S) :- 0 : No , 1 : Yes \n",
        " \n",
        "83 . Network communication : Broadcast data messages to applications. (S) :- 0 : No , 1 : Yes \n",
        " \n",
        "84 . Network communication : control Near Field Communication (D) :- 0 : No , 1 : Yes \n",
        " \n",
        "85 . Network communication : create Bluetooth connections (D) :- 0 : No , 1 : Yes \n",
        " \n",
        "86 . Network communication : download files without notification (S) :- 0 : No , 1 : Yes \n",
        " \n",
        "87 . Network communication : full Internet access (D) :- 0 : No , 1 : Yes \n",
        " \n",
        "88 . Network communication : make/receive Internet calls (D) :- 0 : No , 1 : Yes \n",
        " \n",
        "89 . Network communication : receive data from Internet (S) :- 0 : No , 1 : Yes \n",
        " \n",
        "90 . Network communication : view Wi-Fi state (S) :- 0 : No , 1 : Yes \n",
        " \n",
        "91 . Network communication : view network state (S) :- 0 : No , 1 : Yes \n",
        " \n",
        "92 . Phone calls : intercept outgoing calls (D) :- 0 : No , 1 : Yes \n",
        " \n",
        "93 . Phone calls : modify phone state (S) :- 0 : No , 1 : Yes \n",
        " \n",
        "94 . Phone calls : read phone state and identity (D) :- 0 : No , 1 : Yes \n",
        " \n",
        "95 . Services that cost you money : directly call phone numbers (D) :- 0 : No , 1 : Yes \n",
        " \n",
        "96 . Services that cost you money : send SMS messages (D) :- 0 : No , 1 : Yes \n",
        " \n",
        "97 . Storage : modify/delete USB storage contents modify/delete SD card contents (D) :- 0 : No , 1 : Yes \n",
        " \n",
        "98 . System tools : allow Wi-Fi Multicast reception (D) :- 0 : No , 1 : Yes \n",
        " \n",
        "99 . System tools : automatically start at boot (S) :- 0 : No , 1 : Yes \n",
        " \n",
        "100 . System tools : bluetooth administration (D) :- 0 : No , 1 : Yes \n",
        " \n",
        "101 . System tools : change Wi-Fi state (D) :- 0 : No , 1 : Yes \n",
        " \n",
        "102 . System tools : change background data usage setting (S) :- 0 : No , 1 : Yes \n",
        " \n",
        "103 . System tools : change network connectivity (D) :- 0 : No , 1 : Yes \n",
        " \n",
        "104 . System tools : change your UI settings (D) :- 0 : No , 1 : Yes \n",
        " \n",
        "105 . System tools : delete all application cache data (D) :- 0 : No , 1 : Yes \n",
        " \n",
        "106 . System tools : disable keylock (D) :- 0 : No , 1 : Yes \n",
        " \n",
        "107 . System tools : display system-level alerts (D) :- 0 : No , 1 : Yes \n",
        " \n",
        "108 . System tools : expand/collapse status bar (S) :- 0 : No , 1 : Yes \n",
        " \n",
        "109 . System tools : force stop other applications (S) :- 0 : No , 1 : Yes \n",
        " \n",
        "110 . System tools : format external storage (D) :- 0 : No , 1 : Yes \n",
        " \n",
        "111 . System tools : kill background processes (S) :- 0 : No , 1 : Yes \n",
        " \n",
        "112 . System tools : make application always run (D) :- 0 : No , 1 : Yes \n",
        " \n",
        "113 . System tools : measure application storage space (S) :- 0 : No , 1 : Yes \n",
        " \n",
        "114 . System tools : modify global animation speed (D) :- 0 : No , 1 : Yes \n",
        " \n",
        "115 . System tools : modify global system settings (D) :- 0 : No , 1 : Yes \n",
        " \n",
        "116 . System tools : mount and unmount filesystems (D) :- 0 : No , 1 : Yes \n",
        " \n",
        "117 . System tools : prevent device from sleeping (D) :- 0 : No , 1 : Yes \n",
        " \n",
        "118 . System tools : read subscribed feeds (S) :- 0 : No , 1 : Yes \n",
        " \n",
        "119 . System tools : read sync settings (S) :- 0 : No , 1 : Yes \n",
        " \n",
        "120 . System tools : read sync statistics (S) :- 0 : No , 1 : Yes \n",
        " \n",
        "121 . System tools : read/write to resources owned by diag (S) :- 0 : No , 1 : Yes \n",
        " \n",
        "122 . System tools : reorder running applications (D) :- 0 : No , 1 : Yes \n",
        " \n",
        "123 . System tools : retrieve running applications (D) :- 0 : No , 1 : Yes \n",
        " \n",
        "124 . System tools : send package removed broadcast (S) :- 0 : No , 1 : Yes \n",
        " \n",
        "125 . System tools : send sticky broadcast (S) :- 0 : No , 1 : Yes \n",
        " \n",
        "126 . System tools : set preferred applications (S) :- 0 : No , 1 : Yes \n",
        " \n",
        "127 . System tools : set time zone (D) :- 0 : No , 1 : Yes \n",
        " \n",
        "128 . System tools : set wallpaper (S) :- 0 : No , 1 : Yes \n",
        " \n",
        "129 . System tools : set wallpaper size hints (S) :- 0 : No , 1 : Yes \n",
        " \n",
        "130 . System tools : write Access Point Name settings (D) :- 0 : No , 1 : Yes \n",
        " \n",
        "131 . System tools : write subscribed feeds (D) :- 0 : No , 1 : Yes \n",
        " \n",
        "132 . System tools : write sync settings (D) :- 0 : No , 1 : Yes \n",
        " \n",
        "133 . Your accounts : Blogger (D) :- 0 : No , 1 : Yes \n",
        " \n",
        "134 . Your accounts : Google App Engine (D) :- 0 : No , 1 : Yes \n",
        " \n",
        "135 . Your accounts : Google Docs (D) :- 0 : No , 1 : Yes \n",
        " \n",
        "136 . Your accounts : Google Finance (D) :- 0 : No , 1 : Yes \n",
        " \n",
        "137 . Your accounts : Google Maps (D) :- 0 : No , 1 : Yes \n",
        " \n",
        "138 . Your accounts : Google Spreadsheets (D) :- 0 : No , 1 : Yes \n",
        " \n",
        "139 . Your accounts : Google Voice (D) :- 0 : No , 1 : Yes \n",
        " \n",
        "140 . Your accounts : Google mail (D) :- 0 : No , 1 : Yes \n",
        " \n",
        "141 . Your accounts : Picasa Web Albums (D) :- 0 : No , 1 : Yes \n",
        " \n",
        "142 . Your accounts : YouTube (D) :- 0 : No , 1 : Yes \n",
        " \n",
        "143 . Your accounts : YouTube usernames (D) :- 0 : No , 1 : Yes \n",
        " \n",
        "144 . Your accounts : access all Google services (S) :- 0 : No , 1 : Yes \n",
        " \n",
        "145 . Your accounts : access other Google services (D) :- 0 : No , 1 : Yes \n",
        " \n",
        "146 . Your accounts : act as an account authenticator (D) :- 0 : No , 1 : Yes \n",
        " \n",
        "147 . Your accounts : act as the AccountManagerService (S) :- 0 : No , 1 : Yes \n",
        " \n",
        "148 . Your accounts : contacts data in Google accounts (D) :- 0 : No , 1 : Yes \n",
        " \n",
        "149 . Your accounts : discover known accounts (S) :- 0 : No , 1 : Yes \n",
        " \n",
        "150 . Your accounts : manage the accounts list (D) :- 0 : No , 1 : Yes \n",
        " \n",
        "151 . Your accounts : read Google service configuration (S) :- 0 : No , 1 : Yes \n",
        " \n",
        "152 . Your accounts : use the authentication credentials of an account (D) :- 0 : No , 1 : Yes \n",
        " \n",
        "153 . Your accounts : view configured accounts (S) :- 0 : No , 1 : Yes \n",
        " \n",
        "154 . Your location : access extra location provider commands (S) :- 0 : No , 1 : Yes \n",
        " \n",
        "155 . Your location : coarse (network-based) location (D) :- 0 : No , 1 : Yes \n",
        " \n",
        "156 . Your location : fine (GPS) location (D) :- 0 : No , 1 : Yes \n",
        " \n",
        "157 . Your location : mock location sources for testing (D) :- 0 : No , 1 : Yes \n",
        " \n",
        "158 . Your messages : Read Email attachments (D) :- 0 : No , 1 : Yes \n",
        " \n",
        "159 . Your messages : Send Gmail (S) :- 0 : No , 1 : Yes \n",
        " \n",
        "160 . Your messages : edit SMS or MMS (D) :- 0 : No , 1 : Yes \n",
        " \n",
        "161 . Your messages : modify Gmail (D) :- 0 : No , 1 : Yes \n",
        " \n",
        "162 . Your messages : read Gmail (D) :- 0 : No , 1 : Yes \n",
        " \n",
        "163 . Your messages : read Gmail attachment previews (D) :- 0 : No , 1 : Yes \n",
        " \n",
        "164 . Your messages : read SMS or MMS (D) :- 0 : No , 1 : Yes \n",
        " \n",
        "165 . Your messages : read instant messages (D) :- 0 : No , 1 : Yes \n",
        " \n",
        "166 . Your messages : receive MMS (D) :- 0 : No , 1 : Yes \n",
        " \n",
        "167 . Your messages : receive SMS (D) :- 0 : No , 1 : Yes \n",
        " \n",
        "168 . Your messages : receive WAP (D) :- 0 : No , 1 : Yes \n",
        " \n",
        "169 . Your messages : send SMS-received broadcast (S) :- 0 : No , 1 : Yes \n",
        " \n",
        "170 . Your messages : send WAP-PUSH-received broadcast (S) :- 0 : No , 1 : Yes \n",
        " \n",
        "171 . Your messages : write instant messages (D) :- 0 : No , 1 : Yes \n",
        " \n",
        "172 . Your personal information : add or modify calendar events and send email to guests (D) :- 0 : No , 1 : Yes \n",
        " \n",
        "173 . Your personal information : choose widgets (S) :- 0 : No , 1 : Yes \n",
        " \n",
        "174 . Your personal information : read Browser's history and bookmarks (D) :- 0 : No , 1 : Yes \n",
        " \n",
        "175 . Your personal information : read calendar events (D) :- 0 : No , 1 : Yes \n",
        " \n",
        "176 . Your personal information : read contact data (D) :- 0 : No , 1 : Yes \n",
        " \n",
        "177 . Your personal information : read sensitive log data (D) :- 0 : No , 1 : Yes \n",
        " \n",
        "178 . Your personal information : read user defined dictionary (D) :- 0 : No , 1 : Yes \n",
        " \n",
        "179 . Your personal information : retrieve system internal state (S) :- 0 : No , 1 : Yes \n",
        " \n",
        "180 . Your personal information : set alarm in alarm clock (S) :- 0 : No , 1 : Yes \n",
        " \n",
        "181 . Your personal information : write Browser's history and bookmarks (D) :- 0 : No , 1 : Yes \n",
        " \n",
        "182 . Your personal information : write contact data (D) :- 0 : No , 1 : Yes \n",
        " \n",
        "183 . Your personal information : write to user defined dictionary (S) :- 0 : No , 1 : Yes \n",
        " \n",
        "184 . Class :- 0 : Benign , 1 : Malware"
      ],
      "metadata": {
        "id": "g2pT0BwcHKYV"
      }
    },
    {
      "cell_type": "code",
      "source": [
        "# importing the packages:\n",
        "import numpy as np\n",
        "import pandas as pd\n",
        "import matplotlib.pyplot as plt\n",
        "%matplotlib inline\n",
        "import seaborn as sns\n"
      ],
      "metadata": {
        "id": "DNnBF8fTH5fw"
      },
      "execution_count": 1,
      "outputs": []
    },
    {
      "cell_type": "code",
      "execution_count": 2,
      "metadata": {
        "id": "mWZw17rqGZ6k"
      },
      "outputs": [],
      "source": [
        "# Reading the dataset:\n",
        "df = pd.read_csv(\"/content/drive/MyDrive/Android Authenticity Prediction - Manisha Dhanuka/ANDRIOD AUTHENTICITY PREDICTION.csv\")"
      ]
    },
    {
      "cell_type": "code",
      "source": [
        "# Basic info about the dataset-- columns, data-types, \n",
        "df.info(verbose = True, show_counts = True)"
      ],
      "metadata": {
        "colab": {
          "base_uri": "https://localhost:8080/"
        },
        "id": "MNOd617BH_bq",
        "outputId": "54a3abde-c0d3-4a49-b5d9-3d25e8c4ff1d"
      },
      "execution_count": 3,
      "outputs": [
        {
          "output_type": "stream",
          "name": "stdout",
          "text": [
            "<class 'pandas.core.frame.DataFrame'>\n",
            "RangeIndex: 29999 entries, 0 to 29998\n",
            "Data columns (total 184 columns):\n",
            " #    Column                                                                                  Non-Null Count  Dtype  \n",
            "---   ------                                                                                  --------------  -----  \n",
            " 0    App                                                                                     29998 non-null  object \n",
            " 1    Package                                                                                 29999 non-null  object \n",
            " 2    Category                                                                                29999 non-null  object \n",
            " 3    Description                                                                             29996 non-null  object \n",
            " 4    Rating                                                                                  29999 non-null  float64\n",
            " 5    Number of ratings                                                                       29999 non-null  int64  \n",
            " 6    Price                                                                                   29999 non-null  float64\n",
            " 7    Related apps                                                                            29244 non-null  object \n",
            " 8    Dangerous permissions count                                                             29795 non-null  float64\n",
            " 9    Safe permissions count                                                                  29999 non-null  int64  \n",
            " 10   Default : Access DRM content. (S)                                                       29999 non-null  int64  \n",
            " 11   Default : Access Email provider data (S)                                                29999 non-null  int64  \n",
            " 12   Default : Access all system downloads (S)                                               29999 non-null  int64  \n",
            " 13   Default : Access download manager. (S)                                                  29999 non-null  int64  \n",
            " 14   Default : Advanced download manager functions. (S)                                      29999 non-null  int64  \n",
            " 15   Default : Audio File Access (S)                                                         29999 non-null  int64  \n",
            " 16   Default : Install DRM content. (S)                                                      29999 non-null  int64  \n",
            " 17   Default : Modify Google service configuration (S)                                       29999 non-null  int64  \n",
            " 18   Default : Modify Google settings (S)                                                    29999 non-null  int64  \n",
            " 19   Default : Move application resources (S)                                                29999 non-null  int64  \n",
            " 20   Default : Read Google settings (S)                                                      29999 non-null  int64  \n",
            " 21   Default : Send download notifications. (S)                                              29999 non-null  int64  \n",
            " 22   Default : Voice Search Shortcuts (S)                                                    29999 non-null  int64  \n",
            " 23   Default : access SurfaceFlinger (S)                                                     29999 non-null  int64  \n",
            " 24   Default : access checkin properties (S)                                                 29999 non-null  int64  \n",
            " 25   Default : access the cache filesystem (S)                                               29999 non-null  int64  \n",
            " 26   Default : access to passwords for Google accounts (S)                                   29999 non-null  int64  \n",
            " 27   Default : act as an account authenticator (S)                                           29999 non-null  int64  \n",
            " 28   Default : bind to a wallpaper (S)                                                       29999 non-null  int64  \n",
            " 29   Default : bind to an input method (S)                                                   29999 non-null  int64  \n",
            " 30   Default : change screen orientation (S)                                                 29999 non-null  int64  \n",
            " 31   Default : coarse (network-based) location (S)                                           29999 non-null  int64  \n",
            " 32   Default : control location update notifications (S)                                     29999 non-null  int64  \n",
            " 33   Default : control system backup and restore (S)                                         29999 non-null  int64  \n",
            " 34   Default : delete applications (S)                                                       29999 non-null  int64  \n",
            " 35   Default : delete other applications' caches (S)                                         29999 non-null  int64  \n",
            " 36   Default : delete other applications' data (S)                                           29999 non-null  int64  \n",
            " 37   Default : directly call any phone numbers (S)                                           29999 non-null  int64  \n",
            " 38   Default : directly install applications (S)                                             29999 non-null  int64  \n",
            " 39   Default : disable or modify status bar (S)                                              29999 non-null  int64  \n",
            " 40   Default : discover known accounts (S)                                                   29999 non-null  int64  \n",
            " 41   Default : display unauthorized windows (S)                                              29999 non-null  int64  \n",
            " 42   Default : enable or disable application components (S)                                  29999 non-null  int64  \n",
            " 43   Default : force application to close (S)                                                29999 non-null  int64  \n",
            " 44   Default : force device reboot (S)                                                       29999 non-null  int64  \n",
            " 45   Default : full Internet access (S)                                                      29999 non-null  int64  \n",
            " 46   Default : interact with a device admin (S)                                              29999 non-null  int64  \n",
            " 47   Default : manage application tokens (S)                                                 29999 non-null  int64  \n",
            " 48   Default : mock location sources for testing (S)                                         29999 non-null  int64  \n",
            " 49   Default : modify battery statistics (S)                                                 29999 non-null  int64  \n",
            " 50   Default : modify secure system settings (S)                                             29999 non-null  int64  \n",
            " 51   Default : modify the Google services map (S)                                            29999 non-null  int64  \n",
            " 52   Default : modify/delete USB storage contents modify/delete SD card contents (S)         29999 non-null  int64  \n",
            " 53   Default : monitor and control all application launching (S)                             29999 non-null  int64  \n",
            " 54   Default : partial shutdown (S)                                                          29999 non-null  int64  \n",
            " 55   Default : permanently disable device (S)                                                29999 non-null  int64  \n",
            " 56   Default : permission to install a location provider (S)                                 29999 non-null  int64  \n",
            " 57   Default : power device on or off (S)                                                    29999 non-null  int64  \n",
            " 58   Default : press keys and control buttons (S)                                            29999 non-null  int64  \n",
            " 59   Default : prevent app switches (S)                                                      29999 non-null  int64  \n",
            " 60   Default : read frame buffer (S)                                                         29999 non-null  int64  \n",
            " 61   Default : read instant messages (S)                                                     29999 non-null  int64  \n",
            " 62   Default : read phone state and identity (S)                                             29999 non-null  int64  \n",
            " 63   Default : record what you type and actions you take (S)                                 29999 non-null  int64  \n",
            " 64   Default : reset system to factory defaults (S)                                          29999 non-null  int64  \n",
            " 65   Default : run in factory test mode (S)                                                  29999 non-null  int64  \n",
            " 66   Default : set time (S)                                                                  29999 non-null  int64  \n",
            " 67   Default : set wallpaper size hints (S)                                                  29999 non-null  int64  \n",
            " 68   Default : start IM service (S)                                                          29999 non-null  int64  \n",
            " 69   Default : update component usage statistics (S)                                         29999 non-null  int64  \n",
            " 70   Default : write contact data (S)                                                        29999 non-null  int64  \n",
            " 71   Default : write instant messages (S)                                                    29999 non-null  int64  \n",
            " 72   Development tools : enable application debugging (D)                                    29999 non-null  int64  \n",
            " 73   Development tools : limit number of running processes (D)                               29999 non-null  int64  \n",
            " 74   Development tools : make all background applications close (D)                          29999 non-null  int64  \n",
            " 75   Development tools : send Linux signals to applications (D)                              29999 non-null  int64  \n",
            " 76   Hardware controls : change your audio settings (D)                                      29999 non-null  int64  \n",
            " 77   Hardware controls : control flashlight (S)                                              29999 non-null  int64  \n",
            " 78   Hardware controls : control vibrator (S)                                                29999 non-null  int64  \n",
            " 79   Hardware controls : record audio (D)                                                    29999 non-null  int64  \n",
            " 80   Hardware controls : take pictures and videos (D)                                        29999 non-null  int64  \n",
            " 81   Hardware controls : test hardware (S)                                                   29999 non-null  int64  \n",
            " 82   Network communication : Broadcast data messages to applications. (S)                    29999 non-null  int64  \n",
            " 83   Network communication : control Near Field Communication (D)                            29999 non-null  int64  \n",
            " 84   Network communication : create Bluetooth connections (D)                                29999 non-null  int64  \n",
            " 85   Network communication : download files without notification (S)                         29999 non-null  int64  \n",
            " 86   Network communication : full Internet access (D)                                        29999 non-null  int64  \n",
            " 87   Network communication : make/receive Internet calls (D)                                 29999 non-null  int64  \n",
            " 88   Network communication : receive data from Internet (S)                                  29999 non-null  int64  \n",
            " 89   Network communication : view Wi-Fi state (S)                                            29999 non-null  int64  \n",
            " 90   Network communication : view network state (S)                                          29999 non-null  int64  \n",
            " 91   Phone calls : intercept outgoing calls (D)                                              29999 non-null  int64  \n",
            " 92   Phone calls : modify phone state (S)                                                    29999 non-null  int64  \n",
            " 93   Phone calls : read phone state and identity (D)                                         29999 non-null  int64  \n",
            " 94   Services that cost you money : directly call phone numbers (D)                          29999 non-null  int64  \n",
            " 95   Services that cost you money : send SMS messages (D)                                    29999 non-null  int64  \n",
            " 96   Storage : modify/delete USB storage contents modify/delete SD card contents (D)         29999 non-null  int64  \n",
            " 97   System tools : allow Wi-Fi Multicast reception (D)                                      29999 non-null  int64  \n",
            " 98   System tools : automatically start at boot (S)                                          29999 non-null  int64  \n",
            " 99   System tools : bluetooth administration (D)                                             29999 non-null  int64  \n",
            " 100  System tools : change Wi-Fi state (D)                                                   29999 non-null  int64  \n",
            " 101  System tools : change background data usage setting (S)                                 29999 non-null  int64  \n",
            " 102  System tools : change network connectivity (D)                                          29999 non-null  int64  \n",
            " 103  System tools : change your UI settings (D)                                              29999 non-null  int64  \n",
            " 104  System tools : delete all application cache data (D)                                    29999 non-null  int64  \n",
            " 105  System tools : disable keylock (D)                                                      29999 non-null  int64  \n",
            " 106  System tools : display system-level alerts (D)                                          29999 non-null  int64  \n",
            " 107  System tools : expand/collapse status bar (S)                                           29999 non-null  int64  \n",
            " 108  System tools : force stop other applications (S)                                        29999 non-null  int64  \n",
            " 109  System tools : format external storage (D)                                              29999 non-null  int64  \n",
            " 110  System tools : kill background processes (S)                                            29999 non-null  int64  \n",
            " 111  System tools : make application always run (D)                                          29999 non-null  int64  \n",
            " 112  System tools : measure application storage space (S)                                    29999 non-null  int64  \n",
            " 113  System tools : modify global animation speed (D)                                        29999 non-null  int64  \n",
            " 114  System tools : modify global system settings (D)                                        29999 non-null  int64  \n",
            " 115  System tools : mount and unmount filesystems (D)                                        29999 non-null  int64  \n",
            " 116  System tools : prevent device from sleeping (D)                                         29999 non-null  int64  \n",
            " 117  System tools : read subscribed feeds (S)                                                29999 non-null  int64  \n",
            " 118  System tools : read sync settings (S)                                                   29999 non-null  int64  \n",
            " 119  System tools : read sync statistics (S)                                                 29999 non-null  int64  \n",
            " 120  System tools : read/write to resources owned by diag (S)                                29999 non-null  int64  \n",
            " 121  System tools : reorder running applications (D)                                         29999 non-null  int64  \n",
            " 122  System tools : retrieve running applications (D)                                        29999 non-null  int64  \n",
            " 123  System tools : send package removed broadcast (S)                                       29999 non-null  int64  \n",
            " 124  System tools : send sticky broadcast (S)                                                29999 non-null  int64  \n",
            " 125  System tools : set preferred applications (S)                                           29999 non-null  int64  \n",
            " 126  System tools : set time zone (D)                                                        29999 non-null  int64  \n",
            " 127  System tools : set wallpaper (S)                                                        29999 non-null  int64  \n",
            " 128  System tools : set wallpaper size hints (S)                                             29999 non-null  int64  \n",
            " 129  System tools : write Access Point Name settings (D)                                     29999 non-null  int64  \n",
            " 130  System tools : write subscribed feeds (D)                                               29999 non-null  int64  \n",
            " 131  System tools : write sync settings (D)                                                  29999 non-null  int64  \n",
            " 132  Your accounts : Blogger (D)                                                             29999 non-null  int64  \n",
            " 133  Your accounts : Google App Engine (D)                                                   29999 non-null  int64  \n",
            " 134  Your accounts : Google Docs (D)                                                         29999 non-null  int64  \n",
            " 135  Your accounts : Google Finance (D)                                                      29999 non-null  int64  \n",
            " 136  Your accounts : Google Maps (D)                                                         29999 non-null  int64  \n",
            " 137  Your accounts : Google Spreadsheets (D)                                                 29999 non-null  int64  \n",
            " 138  Your accounts : Google Voice (D)                                                        29999 non-null  int64  \n",
            " 139  Your accounts : Google mail (D)                                                         29999 non-null  int64  \n",
            " 140  Your accounts : Picasa Web Albums (D)                                                   29999 non-null  int64  \n",
            " 141  Your accounts : YouTube (D)                                                             29999 non-null  int64  \n",
            " 142  Your accounts : YouTube usernames (D)                                                   29999 non-null  int64  \n",
            " 143  Your accounts : access all Google services (S)                                          29999 non-null  int64  \n",
            " 144  Your accounts : access other Google services (D)                                        29999 non-null  int64  \n",
            " 145  Your accounts : act as an account authenticator (D)                                     29999 non-null  int64  \n",
            " 146  Your accounts : act as the AccountManagerService (S)                                    29999 non-null  int64  \n",
            " 147  Your accounts : contacts data in Google accounts (D)                                    29999 non-null  int64  \n",
            " 148  Your accounts : discover known accounts (S)                                             29999 non-null  int64  \n",
            " 149  Your accounts : manage the accounts list (D)                                            29999 non-null  int64  \n",
            " 150  Your accounts : read Google service configuration (S)                                   29999 non-null  int64  \n",
            " 151  Your accounts : use the authentication credentials of an account (D)                    29999 non-null  int64  \n",
            " 152  Your accounts : view configured accounts (S)                                            29999 non-null  int64  \n",
            " 153  Your location : access extra location provider commands (S)                             29999 non-null  int64  \n",
            " 154  Your location : coarse (network-based) location (D)                                     29999 non-null  int64  \n",
            " 155  Your location : fine (GPS) location (D)                                                 29999 non-null  int64  \n",
            " 156  Your location : mock location sources for testing (D)                                   29999 non-null  int64  \n",
            " 157  Your messages : Read Email attachments (D)                                              29999 non-null  int64  \n",
            " 158  Your messages : Send Gmail (S)                                                          29999 non-null  int64  \n",
            " 159  Your messages : edit SMS or MMS (D)                                                     29999 non-null  int64  \n",
            " 160  Your messages : modify Gmail (D)                                                        29999 non-null  int64  \n",
            " 161  Your messages : read Gmail (D)                                                          29999 non-null  int64  \n",
            " 162  Your messages : read Gmail attachment previews (D)                                      29999 non-null  int64  \n",
            " 163  Your messages : read SMS or MMS (D)                                                     29999 non-null  int64  \n",
            " 164  Your messages : read instant messages (D)                                               29999 non-null  int64  \n",
            " 165  Your messages : receive MMS (D)                                                         29999 non-null  int64  \n",
            " 166  Your messages : receive SMS (D)                                                         29999 non-null  int64  \n",
            " 167  Your messages : receive WAP (D)                                                         29999 non-null  int64  \n",
            " 168  Your messages : send SMS-received broadcast (S)                                         29999 non-null  int64  \n",
            " 169  Your messages : send WAP-PUSH-received broadcast (S)                                    29999 non-null  int64  \n",
            " 170  Your messages : write instant messages (D)                                              29999 non-null  int64  \n",
            " 171  Your personal information : add or modify calendar events and send email to guests (D)  29999 non-null  int64  \n",
            " 172  Your personal information : choose widgets (S)                                          29999 non-null  int64  \n",
            " 173  Your personal information : read Browser's history and bookmarks (D)                    29999 non-null  int64  \n",
            " 174  Your personal information : read calendar events (D)                                    29999 non-null  int64  \n",
            " 175  Your personal information : read contact data (D)                                       29999 non-null  int64  \n",
            " 176  Your personal information : read sensitive log data (D)                                 29999 non-null  int64  \n",
            " 177  Your personal information : read user defined dictionary (D)                            29999 non-null  int64  \n",
            " 178  Your personal information : retrieve system internal state (S)                          29999 non-null  int64  \n",
            " 179  Your personal information : set alarm in alarm clock (S)                                29999 non-null  int64  \n",
            " 180  Your personal information : write Browser's history and bookmarks (D)                   29999 non-null  int64  \n",
            " 181  Your personal information : write contact data (D)                                      29999 non-null  int64  \n",
            " 182  Your personal information : write to user defined dictionary (S)                        29999 non-null  int64  \n",
            " 183  Class                                                                                   29999 non-null  int64  \n",
            "dtypes: float64(3), int64(176), object(5)\n",
            "memory usage: 42.1+ MB\n"
          ]
        }
      ]
    },
    {
      "cell_type": "markdown",
      "source": [
        "So, the Dataset is about nearly 30,000 Apps which will be used to train our model to spot the malwares"
      ],
      "metadata": {
        "id": "xHW5Z_gBIKou"
      }
    },
    {
      "cell_type": "code",
      "source": [
        "df.head()"
      ],
      "metadata": {
        "colab": {
          "base_uri": "https://localhost:8080/",
          "height": 664
        },
        "id": "luQDBFpaIEBT",
        "outputId": "48c2847f-7bc3-4bbb-8a4b-1c45cfcb53fe"
      },
      "execution_count": 4,
      "outputs": [
        {
          "output_type": "execute_result",
          "data": {
            "text/plain": [
              "                              App                                   Package  \\\n",
              "0         Canada Post Corporation                    com.canadapost.android   \n",
              "1                       Word Farm                 com.realcasualgames.words   \n",
              "2            Fortunes of War FREE                        fortunesofwar.free   \n",
              "3  Better Keyboard: Avatar Purple  com.cc.betterkeyboard.skins.avatarpurple   \n",
              "4                      Boxing Day                indiaNIC.android.BoxingDay   \n",
              "\n",
              "           Category                                        Description  \\\n",
              "0          Business  Canada Post Mobile App gives you access to som...   \n",
              "1    Brain & Puzzle  Speed and strategy combine in this exciting wo...   \n",
              "2    Cards & Casino  Fortunes of War is a fast-paced, easy to learn...   \n",
              "3  Libraries & Demo  Skin for Better Keyboard featuring a glossy fe...   \n",
              "4         Lifestyle  Boxing Day by Christopher Jaymes<p>Based on a ...   \n",
              "\n",
              "   Rating  Number of ratings  Price  \\\n",
              "0     3.1                 77   0.00   \n",
              "1     4.3                199   0.00   \n",
              "2     4.1                243   0.00   \n",
              "3     3.6               2589   0.00   \n",
              "4     0.0                  0   5.99   \n",
              "\n",
              "                                        Related apps  \\\n",
              "0  {com.adaffix.pub.ca.android, com.kevinquan.gas...   \n",
              "1  {air.com.zubawing.FastWordLite, com.joybits.do...   \n",
              "2  {com.kevinquan.condado, hu.monsta.pazaak, net....   \n",
              "3  {eu.gdumoulin.betterandroid.skins.transparent....   \n",
              "4                                                NaN   \n",
              "\n",
              "   Dangerous permissions count  Safe permissions count  ...  \\\n",
              "0                          7.0                       1  ...   \n",
              "1                          3.0                       2  ...   \n",
              "2                          1.0                       1  ...   \n",
              "3                          0.0                       0  ...   \n",
              "4                          1.0                       0  ...   \n",
              "\n",
              "   Your personal information : read calendar events (D)  \\\n",
              "0                                                  0      \n",
              "1                                                  0      \n",
              "2                                                  0      \n",
              "3                                                  0      \n",
              "4                                                  0      \n",
              "\n",
              "   Your personal information : read contact data (D)  \\\n",
              "0                                                  1   \n",
              "1                                                  0   \n",
              "2                                                  0   \n",
              "3                                                  0   \n",
              "4                                                  0   \n",
              "\n",
              "   Your personal information : read sensitive log data (D)  \\\n",
              "0                                                  0         \n",
              "1                                                  0         \n",
              "2                                                  0         \n",
              "3                                                  0         \n",
              "4                                                  0         \n",
              "\n",
              "   Your personal information : read user defined dictionary (D)  \\\n",
              "0                                                  0              \n",
              "1                                                  0              \n",
              "2                                                  0              \n",
              "3                                                  0              \n",
              "4                                                  0              \n",
              "\n",
              "   Your personal information : retrieve system internal state (S)  \\\n",
              "0                                                  0                \n",
              "1                                                  0                \n",
              "2                                                  0                \n",
              "3                                                  0                \n",
              "4                                                  0                \n",
              "\n",
              "   Your personal information : set alarm in alarm clock (S)  \\\n",
              "0                                                  0          \n",
              "1                                                  0          \n",
              "2                                                  0          \n",
              "3                                                  0          \n",
              "4                                                  0          \n",
              "\n",
              "   Your personal information : write Browser's history and bookmarks (D)  \\\n",
              "0                                                  0                       \n",
              "1                                                  0                       \n",
              "2                                                  0                       \n",
              "3                                                  0                       \n",
              "4                                                  0                       \n",
              "\n",
              "   Your personal information : write contact data (D)  \\\n",
              "0                                                  1    \n",
              "1                                                  0    \n",
              "2                                                  0    \n",
              "3                                                  0    \n",
              "4                                                  0    \n",
              "\n",
              "   Your personal information : write to user defined dictionary (S)  Class  \n",
              "0                                                  0                     0  \n",
              "1                                                  0                     0  \n",
              "2                                                  0                     0  \n",
              "3                                                  0                     0  \n",
              "4                                                  0                     1  \n",
              "\n",
              "[5 rows x 184 columns]"
            ],
            "text/html": [
              "\n",
              "  <div id=\"df-34212749-140b-47aa-b582-c388cc696b88\">\n",
              "    <div class=\"colab-df-container\">\n",
              "      <div>\n",
              "<style scoped>\n",
              "    .dataframe tbody tr th:only-of-type {\n",
              "        vertical-align: middle;\n",
              "    }\n",
              "\n",
              "    .dataframe tbody tr th {\n",
              "        vertical-align: top;\n",
              "    }\n",
              "\n",
              "    .dataframe thead th {\n",
              "        text-align: right;\n",
              "    }\n",
              "</style>\n",
              "<table border=\"1\" class=\"dataframe\">\n",
              "  <thead>\n",
              "    <tr style=\"text-align: right;\">\n",
              "      <th></th>\n",
              "      <th>App</th>\n",
              "      <th>Package</th>\n",
              "      <th>Category</th>\n",
              "      <th>Description</th>\n",
              "      <th>Rating</th>\n",
              "      <th>Number of ratings</th>\n",
              "      <th>Price</th>\n",
              "      <th>Related apps</th>\n",
              "      <th>Dangerous permissions count</th>\n",
              "      <th>Safe permissions count</th>\n",
              "      <th>...</th>\n",
              "      <th>Your personal information : read calendar events (D)</th>\n",
              "      <th>Your personal information : read contact data (D)</th>\n",
              "      <th>Your personal information : read sensitive log data (D)</th>\n",
              "      <th>Your personal information : read user defined dictionary (D)</th>\n",
              "      <th>Your personal information : retrieve system internal state (S)</th>\n",
              "      <th>Your personal information : set alarm in alarm clock (S)</th>\n",
              "      <th>Your personal information : write Browser's history and bookmarks (D)</th>\n",
              "      <th>Your personal information : write contact data (D)</th>\n",
              "      <th>Your personal information : write to user defined dictionary (S)</th>\n",
              "      <th>Class</th>\n",
              "    </tr>\n",
              "  </thead>\n",
              "  <tbody>\n",
              "    <tr>\n",
              "      <th>0</th>\n",
              "      <td>Canada Post Corporation</td>\n",
              "      <td>com.canadapost.android</td>\n",
              "      <td>Business</td>\n",
              "      <td>Canada Post Mobile App gives you access to som...</td>\n",
              "      <td>3.1</td>\n",
              "      <td>77</td>\n",
              "      <td>0.00</td>\n",
              "      <td>{com.adaffix.pub.ca.android, com.kevinquan.gas...</td>\n",
              "      <td>7.0</td>\n",
              "      <td>1</td>\n",
              "      <td>...</td>\n",
              "      <td>0</td>\n",
              "      <td>1</td>\n",
              "      <td>0</td>\n",
              "      <td>0</td>\n",
              "      <td>0</td>\n",
              "      <td>0</td>\n",
              "      <td>0</td>\n",
              "      <td>1</td>\n",
              "      <td>0</td>\n",
              "      <td>0</td>\n",
              "    </tr>\n",
              "    <tr>\n",
              "      <th>1</th>\n",
              "      <td>Word Farm</td>\n",
              "      <td>com.realcasualgames.words</td>\n",
              "      <td>Brain &amp; Puzzle</td>\n",
              "      <td>Speed and strategy combine in this exciting wo...</td>\n",
              "      <td>4.3</td>\n",
              "      <td>199</td>\n",
              "      <td>0.00</td>\n",
              "      <td>{air.com.zubawing.FastWordLite, com.joybits.do...</td>\n",
              "      <td>3.0</td>\n",
              "      <td>2</td>\n",
              "      <td>...</td>\n",
              "      <td>0</td>\n",
              "      <td>0</td>\n",
              "      <td>0</td>\n",
              "      <td>0</td>\n",
              "      <td>0</td>\n",
              "      <td>0</td>\n",
              "      <td>0</td>\n",
              "      <td>0</td>\n",
              "      <td>0</td>\n",
              "      <td>0</td>\n",
              "    </tr>\n",
              "    <tr>\n",
              "      <th>2</th>\n",
              "      <td>Fortunes of War FREE</td>\n",
              "      <td>fortunesofwar.free</td>\n",
              "      <td>Cards &amp; Casino</td>\n",
              "      <td>Fortunes of War is a fast-paced, easy to learn...</td>\n",
              "      <td>4.1</td>\n",
              "      <td>243</td>\n",
              "      <td>0.00</td>\n",
              "      <td>{com.kevinquan.condado, hu.monsta.pazaak, net....</td>\n",
              "      <td>1.0</td>\n",
              "      <td>1</td>\n",
              "      <td>...</td>\n",
              "      <td>0</td>\n",
              "      <td>0</td>\n",
              "      <td>0</td>\n",
              "      <td>0</td>\n",
              "      <td>0</td>\n",
              "      <td>0</td>\n",
              "      <td>0</td>\n",
              "      <td>0</td>\n",
              "      <td>0</td>\n",
              "      <td>0</td>\n",
              "    </tr>\n",
              "    <tr>\n",
              "      <th>3</th>\n",
              "      <td>Better Keyboard: Avatar Purple</td>\n",
              "      <td>com.cc.betterkeyboard.skins.avatarpurple</td>\n",
              "      <td>Libraries &amp; Demo</td>\n",
              "      <td>Skin for Better Keyboard featuring a glossy fe...</td>\n",
              "      <td>3.6</td>\n",
              "      <td>2589</td>\n",
              "      <td>0.00</td>\n",
              "      <td>{eu.gdumoulin.betterandroid.skins.transparent....</td>\n",
              "      <td>0.0</td>\n",
              "      <td>0</td>\n",
              "      <td>...</td>\n",
              "      <td>0</td>\n",
              "      <td>0</td>\n",
              "      <td>0</td>\n",
              "      <td>0</td>\n",
              "      <td>0</td>\n",
              "      <td>0</td>\n",
              "      <td>0</td>\n",
              "      <td>0</td>\n",
              "      <td>0</td>\n",
              "      <td>0</td>\n",
              "    </tr>\n",
              "    <tr>\n",
              "      <th>4</th>\n",
              "      <td>Boxing Day</td>\n",
              "      <td>indiaNIC.android.BoxingDay</td>\n",
              "      <td>Lifestyle</td>\n",
              "      <td>Boxing Day by Christopher Jaymes&lt;p&gt;Based on a ...</td>\n",
              "      <td>0.0</td>\n",
              "      <td>0</td>\n",
              "      <td>5.99</td>\n",
              "      <td>NaN</td>\n",
              "      <td>1.0</td>\n",
              "      <td>0</td>\n",
              "      <td>...</td>\n",
              "      <td>0</td>\n",
              "      <td>0</td>\n",
              "      <td>0</td>\n",
              "      <td>0</td>\n",
              "      <td>0</td>\n",
              "      <td>0</td>\n",
              "      <td>0</td>\n",
              "      <td>0</td>\n",
              "      <td>0</td>\n",
              "      <td>1</td>\n",
              "    </tr>\n",
              "  </tbody>\n",
              "</table>\n",
              "<p>5 rows × 184 columns</p>\n",
              "</div>\n",
              "      <button class=\"colab-df-convert\" onclick=\"convertToInteractive('df-34212749-140b-47aa-b582-c388cc696b88')\"\n",
              "              title=\"Convert this dataframe to an interactive table.\"\n",
              "              style=\"display:none;\">\n",
              "        \n",
              "  <svg xmlns=\"http://www.w3.org/2000/svg\" height=\"24px\"viewBox=\"0 0 24 24\"\n",
              "       width=\"24px\">\n",
              "    <path d=\"M0 0h24v24H0V0z\" fill=\"none\"/>\n",
              "    <path d=\"M18.56 5.44l.94 2.06.94-2.06 2.06-.94-2.06-.94-.94-2.06-.94 2.06-2.06.94zm-11 1L8.5 8.5l.94-2.06 2.06-.94-2.06-.94L8.5 2.5l-.94 2.06-2.06.94zm10 10l.94 2.06.94-2.06 2.06-.94-2.06-.94-.94-2.06-.94 2.06-2.06.94z\"/><path d=\"M17.41 7.96l-1.37-1.37c-.4-.4-.92-.59-1.43-.59-.52 0-1.04.2-1.43.59L10.3 9.45l-7.72 7.72c-.78.78-.78 2.05 0 2.83L4 21.41c.39.39.9.59 1.41.59.51 0 1.02-.2 1.41-.59l7.78-7.78 2.81-2.81c.8-.78.8-2.07 0-2.86zM5.41 20L4 18.59l7.72-7.72 1.47 1.35L5.41 20z\"/>\n",
              "  </svg>\n",
              "      </button>\n",
              "      \n",
              "  <style>\n",
              "    .colab-df-container {\n",
              "      display:flex;\n",
              "      flex-wrap:wrap;\n",
              "      gap: 12px;\n",
              "    }\n",
              "\n",
              "    .colab-df-convert {\n",
              "      background-color: #E8F0FE;\n",
              "      border: none;\n",
              "      border-radius: 50%;\n",
              "      cursor: pointer;\n",
              "      display: none;\n",
              "      fill: #1967D2;\n",
              "      height: 32px;\n",
              "      padding: 0 0 0 0;\n",
              "      width: 32px;\n",
              "    }\n",
              "\n",
              "    .colab-df-convert:hover {\n",
              "      background-color: #E2EBFA;\n",
              "      box-shadow: 0px 1px 2px rgba(60, 64, 67, 0.3), 0px 1px 3px 1px rgba(60, 64, 67, 0.15);\n",
              "      fill: #174EA6;\n",
              "    }\n",
              "\n",
              "    [theme=dark] .colab-df-convert {\n",
              "      background-color: #3B4455;\n",
              "      fill: #D2E3FC;\n",
              "    }\n",
              "\n",
              "    [theme=dark] .colab-df-convert:hover {\n",
              "      background-color: #434B5C;\n",
              "      box-shadow: 0px 1px 3px 1px rgba(0, 0, 0, 0.15);\n",
              "      filter: drop-shadow(0px 1px 2px rgba(0, 0, 0, 0.3));\n",
              "      fill: #FFFFFF;\n",
              "    }\n",
              "  </style>\n",
              "\n",
              "      <script>\n",
              "        const buttonEl =\n",
              "          document.querySelector('#df-34212749-140b-47aa-b582-c388cc696b88 button.colab-df-convert');\n",
              "        buttonEl.style.display =\n",
              "          google.colab.kernel.accessAllowed ? 'block' : 'none';\n",
              "\n",
              "        async function convertToInteractive(key) {\n",
              "          const element = document.querySelector('#df-34212749-140b-47aa-b582-c388cc696b88');\n",
              "          const dataTable =\n",
              "            await google.colab.kernel.invokeFunction('convertToInteractive',\n",
              "                                                     [key], {});\n",
              "          if (!dataTable) return;\n",
              "\n",
              "          const docLinkHtml = 'Like what you see? Visit the ' +\n",
              "            '<a target=\"_blank\" href=https://colab.research.google.com/notebooks/data_table.ipynb>data table notebook</a>'\n",
              "            + ' to learn more about interactive tables.';\n",
              "          element.innerHTML = '';\n",
              "          dataTable['output_type'] = 'display_data';\n",
              "          await google.colab.output.renderOutput(dataTable, element);\n",
              "          const docLink = document.createElement('div');\n",
              "          docLink.innerHTML = docLinkHtml;\n",
              "          element.appendChild(docLink);\n",
              "        }\n",
              "      </script>\n",
              "    </div>\n",
              "  </div>\n",
              "  "
            ]
          },
          "metadata": {},
          "execution_count": 4
        }
      ]
    },
    {
      "cell_type": "code",
      "source": [
        "# Descriptive statistics for continuous value columns:\n",
        "df[['Rating', 'Number of ratings','Price','Dangerous permissions count','Safe permissions count','Class']].describe().transpose()"
      ],
      "metadata": {
        "colab": {
          "base_uri": "https://localhost:8080/",
          "height": 238
        },
        "id": "-PhJtsudINVV",
        "outputId": "7143ecf0-6259-4c14-9793-f2b3644a6cf7"
      },
      "execution_count": 5,
      "outputs": [
        {
          "output_type": "execute_result",
          "data": {
            "text/plain": [
              "                               count         mean           std  min  25%  \\\n",
              "Rating                       29999.0     3.537215      1.424685  0.0  3.3   \n",
              "Number of ratings            29999.0  6852.608454  45868.991636  0.0  4.0   \n",
              "Price                        29999.0     0.625707      3.222620  0.0  0.0   \n",
              "Dangerous permissions count  29795.0     3.111160      3.052602  0.0  1.0   \n",
              "Safe permissions count       29999.0     1.353978      1.523491  0.0  0.0   \n",
              "Class                        29999.0     0.666689      0.471405  0.0  0.0   \n",
              "\n",
              "                              50%    75%         max  \n",
              "Rating                        4.0    4.4        5.00  \n",
              "Number of ratings            46.0  716.0  1908590.00  \n",
              "Price                         0.0    0.0      158.07  \n",
              "Dangerous permissions count   2.0    4.0       30.00  \n",
              "Safe permissions count        1.0    2.0       16.00  \n",
              "Class                         1.0    1.0        1.00  "
            ],
            "text/html": [
              "\n",
              "  <div id=\"df-cb445979-f53e-41f4-b811-e63572dbed0d\">\n",
              "    <div class=\"colab-df-container\">\n",
              "      <div>\n",
              "<style scoped>\n",
              "    .dataframe tbody tr th:only-of-type {\n",
              "        vertical-align: middle;\n",
              "    }\n",
              "\n",
              "    .dataframe tbody tr th {\n",
              "        vertical-align: top;\n",
              "    }\n",
              "\n",
              "    .dataframe thead th {\n",
              "        text-align: right;\n",
              "    }\n",
              "</style>\n",
              "<table border=\"1\" class=\"dataframe\">\n",
              "  <thead>\n",
              "    <tr style=\"text-align: right;\">\n",
              "      <th></th>\n",
              "      <th>count</th>\n",
              "      <th>mean</th>\n",
              "      <th>std</th>\n",
              "      <th>min</th>\n",
              "      <th>25%</th>\n",
              "      <th>50%</th>\n",
              "      <th>75%</th>\n",
              "      <th>max</th>\n",
              "    </tr>\n",
              "  </thead>\n",
              "  <tbody>\n",
              "    <tr>\n",
              "      <th>Rating</th>\n",
              "      <td>29999.0</td>\n",
              "      <td>3.537215</td>\n",
              "      <td>1.424685</td>\n",
              "      <td>0.0</td>\n",
              "      <td>3.3</td>\n",
              "      <td>4.0</td>\n",
              "      <td>4.4</td>\n",
              "      <td>5.00</td>\n",
              "    </tr>\n",
              "    <tr>\n",
              "      <th>Number of ratings</th>\n",
              "      <td>29999.0</td>\n",
              "      <td>6852.608454</td>\n",
              "      <td>45868.991636</td>\n",
              "      <td>0.0</td>\n",
              "      <td>4.0</td>\n",
              "      <td>46.0</td>\n",
              "      <td>716.0</td>\n",
              "      <td>1908590.00</td>\n",
              "    </tr>\n",
              "    <tr>\n",
              "      <th>Price</th>\n",
              "      <td>29999.0</td>\n",
              "      <td>0.625707</td>\n",
              "      <td>3.222620</td>\n",
              "      <td>0.0</td>\n",
              "      <td>0.0</td>\n",
              "      <td>0.0</td>\n",
              "      <td>0.0</td>\n",
              "      <td>158.07</td>\n",
              "    </tr>\n",
              "    <tr>\n",
              "      <th>Dangerous permissions count</th>\n",
              "      <td>29795.0</td>\n",
              "      <td>3.111160</td>\n",
              "      <td>3.052602</td>\n",
              "      <td>0.0</td>\n",
              "      <td>1.0</td>\n",
              "      <td>2.0</td>\n",
              "      <td>4.0</td>\n",
              "      <td>30.00</td>\n",
              "    </tr>\n",
              "    <tr>\n",
              "      <th>Safe permissions count</th>\n",
              "      <td>29999.0</td>\n",
              "      <td>1.353978</td>\n",
              "      <td>1.523491</td>\n",
              "      <td>0.0</td>\n",
              "      <td>0.0</td>\n",
              "      <td>1.0</td>\n",
              "      <td>2.0</td>\n",
              "      <td>16.00</td>\n",
              "    </tr>\n",
              "    <tr>\n",
              "      <th>Class</th>\n",
              "      <td>29999.0</td>\n",
              "      <td>0.666689</td>\n",
              "      <td>0.471405</td>\n",
              "      <td>0.0</td>\n",
              "      <td>0.0</td>\n",
              "      <td>1.0</td>\n",
              "      <td>1.0</td>\n",
              "      <td>1.00</td>\n",
              "    </tr>\n",
              "  </tbody>\n",
              "</table>\n",
              "</div>\n",
              "      <button class=\"colab-df-convert\" onclick=\"convertToInteractive('df-cb445979-f53e-41f4-b811-e63572dbed0d')\"\n",
              "              title=\"Convert this dataframe to an interactive table.\"\n",
              "              style=\"display:none;\">\n",
              "        \n",
              "  <svg xmlns=\"http://www.w3.org/2000/svg\" height=\"24px\"viewBox=\"0 0 24 24\"\n",
              "       width=\"24px\">\n",
              "    <path d=\"M0 0h24v24H0V0z\" fill=\"none\"/>\n",
              "    <path d=\"M18.56 5.44l.94 2.06.94-2.06 2.06-.94-2.06-.94-.94-2.06-.94 2.06-2.06.94zm-11 1L8.5 8.5l.94-2.06 2.06-.94-2.06-.94L8.5 2.5l-.94 2.06-2.06.94zm10 10l.94 2.06.94-2.06 2.06-.94-2.06-.94-.94-2.06-.94 2.06-2.06.94z\"/><path d=\"M17.41 7.96l-1.37-1.37c-.4-.4-.92-.59-1.43-.59-.52 0-1.04.2-1.43.59L10.3 9.45l-7.72 7.72c-.78.78-.78 2.05 0 2.83L4 21.41c.39.39.9.59 1.41.59.51 0 1.02-.2 1.41-.59l7.78-7.78 2.81-2.81c.8-.78.8-2.07 0-2.86zM5.41 20L4 18.59l7.72-7.72 1.47 1.35L5.41 20z\"/>\n",
              "  </svg>\n",
              "      </button>\n",
              "      \n",
              "  <style>\n",
              "    .colab-df-container {\n",
              "      display:flex;\n",
              "      flex-wrap:wrap;\n",
              "      gap: 12px;\n",
              "    }\n",
              "\n",
              "    .colab-df-convert {\n",
              "      background-color: #E8F0FE;\n",
              "      border: none;\n",
              "      border-radius: 50%;\n",
              "      cursor: pointer;\n",
              "      display: none;\n",
              "      fill: #1967D2;\n",
              "      height: 32px;\n",
              "      padding: 0 0 0 0;\n",
              "      width: 32px;\n",
              "    }\n",
              "\n",
              "    .colab-df-convert:hover {\n",
              "      background-color: #E2EBFA;\n",
              "      box-shadow: 0px 1px 2px rgba(60, 64, 67, 0.3), 0px 1px 3px 1px rgba(60, 64, 67, 0.15);\n",
              "      fill: #174EA6;\n",
              "    }\n",
              "\n",
              "    [theme=dark] .colab-df-convert {\n",
              "      background-color: #3B4455;\n",
              "      fill: #D2E3FC;\n",
              "    }\n",
              "\n",
              "    [theme=dark] .colab-df-convert:hover {\n",
              "      background-color: #434B5C;\n",
              "      box-shadow: 0px 1px 3px 1px rgba(0, 0, 0, 0.15);\n",
              "      filter: drop-shadow(0px 1px 2px rgba(0, 0, 0, 0.3));\n",
              "      fill: #FFFFFF;\n",
              "    }\n",
              "  </style>\n",
              "\n",
              "      <script>\n",
              "        const buttonEl =\n",
              "          document.querySelector('#df-cb445979-f53e-41f4-b811-e63572dbed0d button.colab-df-convert');\n",
              "        buttonEl.style.display =\n",
              "          google.colab.kernel.accessAllowed ? 'block' : 'none';\n",
              "\n",
              "        async function convertToInteractive(key) {\n",
              "          const element = document.querySelector('#df-cb445979-f53e-41f4-b811-e63572dbed0d');\n",
              "          const dataTable =\n",
              "            await google.colab.kernel.invokeFunction('convertToInteractive',\n",
              "                                                     [key], {});\n",
              "          if (!dataTable) return;\n",
              "\n",
              "          const docLinkHtml = 'Like what you see? Visit the ' +\n",
              "            '<a target=\"_blank\" href=https://colab.research.google.com/notebooks/data_table.ipynb>data table notebook</a>'\n",
              "            + ' to learn more about interactive tables.';\n",
              "          element.innerHTML = '';\n",
              "          dataTable['output_type'] = 'display_data';\n",
              "          await google.colab.output.renderOutput(dataTable, element);\n",
              "          const docLink = document.createElement('div');\n",
              "          docLink.innerHTML = docLinkHtml;\n",
              "          element.appendChild(docLink);\n",
              "        }\n",
              "      </script>\n",
              "    </div>\n",
              "  </div>\n",
              "  "
            ]
          },
          "metadata": {},
          "execution_count": 5
        }
      ]
    },
    {
      "cell_type": "markdown",
      "source": [
        "# Null Values Analysis:"
      ],
      "metadata": {
        "id": "d6CumDRKIfHZ"
      }
    },
    {
      "cell_type": "code",
      "source": [
        "# Null values analysing and treating them: \n",
        "df.isnull().sum().sort_values(ascending = False)"
      ],
      "metadata": {
        "colab": {
          "base_uri": "https://localhost:8080/"
        },
        "id": "MysdKS3vIW28",
        "outputId": "d89648b2-40fc-4c47-f19b-ddb69eaa4af8"
      },
      "execution_count": 6,
      "outputs": [
        {
          "output_type": "execute_result",
          "data": {
            "text/plain": [
              "Related apps                                   755\n",
              "Dangerous permissions count                    204\n",
              "Description                                      3\n",
              "App                                              1\n",
              "System tools : set wallpaper size hints (S)      0\n",
              "                                              ... \n",
              "Default : run in factory test mode (S)           0\n",
              "Default : set time (S)                           0\n",
              "Default : set wallpaper size hints (S)           0\n",
              "Default : start IM service (S)                   0\n",
              "Class                                            0\n",
              "Length: 184, dtype: int64"
            ]
          },
          "metadata": {},
          "execution_count": 6
        }
      ]
    },
    {
      "cell_type": "code",
      "source": [
        "#help(sns.heatmap)"
      ],
      "metadata": {
        "id": "RK8LuPvy8LH8"
      },
      "execution_count": 12,
      "outputs": []
    },
    {
      "cell_type": "code",
      "source": [
        "# Null values visualisation:\n",
        "plt.figure(figsize = (15,6))\n",
        "sns.heatmap(df.isnull(), data = df, yticklabels = False, cmap = 'viridis')\n",
        "plt.show()"
      ],
      "metadata": {
        "colab": {
          "base_uri": "https://localhost:8080/",
          "height": 807
        },
        "id": "2D_BW0GoIjv-",
        "outputId": "f4a53cea-53f0-41ed-fc2e-4cae5d6c46e0"
      },
      "execution_count": 13,
      "outputs": [
        {
          "output_type": "display_data",
          "data": {
            "text/plain": [
              "<Figure size 1080x432 with 2 Axes>"
            ],
            "image/png": "[encoded data removed]"
          },
          "metadata": {
            "needs_background": "light"
          }
        }
      ]
    },
    {
      "cell_type": "code",
      "source": [
        "# column names with null values and the corresponding null-value count:\n",
        "null_columns = [col for col in df.columns if df[col].isnull().sum()]\n",
        "print(null_columns)"
      ],
      "metadata": {
        "colab": {
          "base_uri": "https://localhost:8080/"
        },
        "id": "NOBNwYLhIsn2",
        "outputId": "b81509b4-a3ae-4f10-ce01-6611c9cbd851"
      },
      "execution_count": 14,
      "outputs": [
        {
          "output_type": "stream",
          "name": "stdout",
          "text": [
            "['App', 'Description', 'Related apps', 'Dangerous permissions count']\n"
          ]
        }
      ]
    },
    {
      "cell_type": "code",
      "source": [
        "# Dropping the row with no app name:-- won't affect data that much as effective row is only 1\n",
        "df = df.dropna(subset = ['App'])"
      ],
      "metadata": {
        "id": "OV8aC4FNIzYr"
      },
      "execution_count": 15,
      "outputs": []
    },
    {
      "cell_type": "code",
      "source": [
        "# Treating null values of destribution column:\n",
        "df[df['Description'].isnull()]"
      ],
      "metadata": {
        "colab": {
          "base_uri": "https://localhost:8080/",
          "height": 410
        },
        "id": "yGxz_D_NI5Xl",
        "outputId": "05fba5c2-3d43-4e94-ed73-0066231c5a92"
      },
      "execution_count": 16,
      "outputs": [
        {
          "output_type": "execute_result",
          "data": {
            "text/plain": [
              "                       App                 Package          Category  \\\n",
              "20290          Comic Books  com.eddie.comic_reader            Comics   \n",
              "23393           Stop Watch  dxp.nandalky.stopwatch         Lifestyle   \n",
              "29456  Pedometer ***NEW***   com.lexapps.pedometer  Health & Fitness   \n",
              "\n",
              "      Description  Rating  Number of ratings  Price  \\\n",
              "20290         NaN     3.6                106    0.0   \n",
              "23393         NaN     3.5                 47    0.0   \n",
              "29456         NaN     3.0                 94    0.0   \n",
              "\n",
              "                                            Related apps  \\\n",
              "20290  {com.prolog.ComicBook, cn.xg.brainteasers, com...   \n",
              "23393  {com.xg.stopwatch.en, org.spring.watch, bugsli...   \n",
              "29456  {com.luminant.pedometer, com.fatextinction.and...   \n",
              "\n",
              "       Dangerous permissions count  Safe permissions count  ...  \\\n",
              "20290                          2.0                       1  ...   \n",
              "23393                          0.0                       0  ...   \n",
              "29456                          1.0                       0  ...   \n",
              "\n",
              "       Your personal information : read calendar events (D)  \\\n",
              "20290                                                  0      \n",
              "23393                                                  0      \n",
              "29456                                                  0      \n",
              "\n",
              "       Your personal information : read contact data (D)  \\\n",
              "20290                                                  0   \n",
              "23393                                                  0   \n",
              "29456                                                  0   \n",
              "\n",
              "       Your personal information : read sensitive log data (D)  \\\n",
              "20290                                                  0         \n",
              "23393                                                  0         \n",
              "29456                                                  0         \n",
              "\n",
              "       Your personal information : read user defined dictionary (D)  \\\n",
              "20290                                                  0              \n",
              "23393                                                  0              \n",
              "29456                                                  0              \n",
              "\n",
              "       Your personal information : retrieve system internal state (S)  \\\n",
              "20290                                                  0                \n",
              "23393                                                  0                \n",
              "29456                                                  0                \n",
              "\n",
              "       Your personal information : set alarm in alarm clock (S)  \\\n",
              "20290                                                  0          \n",
              "23393                                                  0          \n",
              "29456                                                  0          \n",
              "\n",
              "       Your personal information : write Browser's history and bookmarks (D)  \\\n",
              "20290                                                  0                       \n",
              "23393                                                  0                       \n",
              "29456                                                  0                       \n",
              "\n",
              "       Your personal information : write contact data (D)  \\\n",
              "20290                                                  0    \n",
              "23393                                                  0    \n",
              "29456                                                  0    \n",
              "\n",
              "       Your personal information : write to user defined dictionary (S)  Class  \n",
              "20290                                                  0                     0  \n",
              "23393                                                  0                     0  \n",
              "29456                                                  0                     0  \n",
              "\n",
              "[3 rows x 184 columns]"
            ],
            "text/html": [
              "\n",
              "  <div id=\"df-9873db50-a455-4554-bbfb-8e5e6f206e2b\">\n",
              "    <div class=\"colab-df-container\">\n",
              "      <div>\n",
              "<style scoped>\n",
              "    .dataframe tbody tr th:only-of-type {\n",
              "        vertical-align: middle;\n",
              "    }\n",
              "\n",
              "    .dataframe tbody tr th {\n",
              "        vertical-align: top;\n",
              "    }\n",
              "\n",
              "    .dataframe thead th {\n",
              "        text-align: right;\n",
              "    }\n",
              "</style>\n",
              "<table border=\"1\" class=\"dataframe\">\n",
              "  <thead>\n",
              "    <tr style=\"text-align: right;\">\n",
              "      <th></th>\n",
              "      <th>App</th>\n",
              "      <th>Package</th>\n",
              "      <th>Category</th>\n",
              "      <th>Description</th>\n",
              "      <th>Rating</th>\n",
              "      <th>Number of ratings</th>\n",
              "      <th>Price</th>\n",
              "      <th>Related apps</th>\n",
              "      <th>Dangerous permissions count</th>\n",
              "      <th>Safe permissions count</th>\n",
              "      <th>...</th>\n",
              "      <th>Your personal information : read calendar events (D)</th>\n",
              "      <th>Your personal information : read contact data (D)</th>\n",
              "      <th>Your personal information : read sensitive log data (D)</th>\n",
              "      <th>Your personal information : read user defined dictionary (D)</th>\n",
              "      <th>Your personal information : retrieve system internal state (S)</th>\n",
              "      <th>Your personal information : set alarm in alarm clock (S)</th>\n",
              "      <th>Your personal information : write Browser's history and bookmarks (D)</th>\n",
              "      <th>Your personal information : write contact data (D)</th>\n",
              "      <th>Your personal information : write to user defined dictionary (S)</th>\n",
              "      <th>Class</th>\n",
              "    </tr>\n",
              "  </thead>\n",
              "  <tbody>\n",
              "    <tr>\n",
              "      <th>20290</th>\n",
              "      <td>Comic Books</td>\n",
              "      <td>com.eddie.comic_reader</td>\n",
              "      <td>Comics</td>\n",
              "      <td>NaN</td>\n",
              "      <td>3.6</td>\n",
              "      <td>106</td>\n",
              "      <td>0.0</td>\n",
              "      <td>{com.prolog.ComicBook, cn.xg.brainteasers, com...</td>\n",
              "      <td>2.0</td>\n",
              "      <td>1</td>\n",
              "      <td>...</td>\n",
              "      <td>0</td>\n",
              "      <td>0</td>\n",
              "      <td>0</td>\n",
              "      <td>0</td>\n",
              "      <td>0</td>\n",
              "      <td>0</td>\n",
              "      <td>0</td>\n",
              "      <td>0</td>\n",
              "      <td>0</td>\n",
              "      <td>0</td>\n",
              "    </tr>\n",
              "    <tr>\n",
              "      <th>23393</th>\n",
              "      <td>Stop Watch</td>\n",
              "      <td>dxp.nandalky.stopwatch</td>\n",
              "      <td>Lifestyle</td>\n",
              "      <td>NaN</td>\n",
              "      <td>3.5</td>\n",
              "      <td>47</td>\n",
              "      <td>0.0</td>\n",
              "      <td>{com.xg.stopwatch.en, org.spring.watch, bugsli...</td>\n",
              "      <td>0.0</td>\n",
              "      <td>0</td>\n",
              "      <td>...</td>\n",
              "      <td>0</td>\n",
              "      <td>0</td>\n",
              "      <td>0</td>\n",
              "      <td>0</td>\n",
              "      <td>0</td>\n",
              "      <td>0</td>\n",
              "      <td>0</td>\n",
              "      <td>0</td>\n",
              "      <td>0</td>\n",
              "      <td>0</td>\n",
              "    </tr>\n",
              "    <tr>\n",
              "      <th>29456</th>\n",
              "      <td>Pedometer ***NEW***</td>\n",
              "      <td>com.lexapps.pedometer</td>\n",
              "      <td>Health &amp; Fitness</td>\n",
              "      <td>NaN</td>\n",
              "      <td>3.0</td>\n",
              "      <td>94</td>\n",
              "      <td>0.0</td>\n",
              "      <td>{com.luminant.pedometer, com.fatextinction.and...</td>\n",
              "      <td>1.0</td>\n",
              "      <td>0</td>\n",
              "      <td>...</td>\n",
              "      <td>0</td>\n",
              "      <td>0</td>\n",
              "      <td>0</td>\n",
              "      <td>0</td>\n",
              "      <td>0</td>\n",
              "      <td>0</td>\n",
              "      <td>0</td>\n",
              "      <td>0</td>\n",
              "      <td>0</td>\n",
              "      <td>0</td>\n",
              "    </tr>\n",
              "  </tbody>\n",
              "</table>\n",
              "<p>3 rows × 184 columns</p>\n",
              "</div>\n",
              "      <button class=\"colab-df-convert\" onclick=\"convertToInteractive('df-9873db50-a455-4554-bbfb-8e5e6f206e2b')\"\n",
              "              title=\"Convert this dataframe to an interactive table.\"\n",
              "              style=\"display:none;\">\n",
              "        \n",
              "  <svg xmlns=\"http://www.w3.org/2000/svg\" height=\"24px\"viewBox=\"0 0 24 24\"\n",
              "       width=\"24px\">\n",
              "    <path d=\"M0 0h24v24H0V0z\" fill=\"none\"/>\n",
              "    <path d=\"M18.56 5.44l.94 2.06.94-2.06 2.06-.94-2.06-.94-.94-2.06-.94 2.06-2.06.94zm-11 1L8.5 8.5l.94-2.06 2.06-.94-2.06-.94L8.5 2.5l-.94 2.06-2.06.94zm10 10l.94 2.06.94-2.06 2.06-.94-2.06-.94-.94-2.06-.94 2.06-2.06.94z\"/><path d=\"M17.41 7.96l-1.37-1.37c-.4-.4-.92-.59-1.43-.59-.52 0-1.04.2-1.43.59L10.3 9.45l-7.72 7.72c-.78.78-.78 2.05 0 2.83L4 21.41c.39.39.9.59 1.41.59.51 0 1.02-.2 1.41-.59l7.78-7.78 2.81-2.81c.8-.78.8-2.07 0-2.86zM5.41 20L4 18.59l7.72-7.72 1.47 1.35L5.41 20z\"/>\n",
              "  </svg>\n",
              "      </button>\n",
              "      \n",
              "  <style>\n",
              "    .colab-df-container {\n",
              "      display:flex;\n",
              "      flex-wrap:wrap;\n",
              "      gap: 12px;\n",
              "    }\n",
              "\n",
              "    .colab-df-convert {\n",
              "      background-color: #E8F0FE;\n",
              "      border: none;\n",
              "      border-radius: 50%;\n",
              "      cursor: pointer;\n",
              "      display: none;\n",
              "      fill: #1967D2;\n",
              "      height: 32px;\n",
              "      padding: 0 0 0 0;\n",
              "      width: 32px;\n",
              "    }\n",
              "\n",
              "    .colab-df-convert:hover {\n",
              "      background-color: #E2EBFA;\n",
              "      box-shadow: 0px 1px 2px rgba(60, 64, 67, 0.3), 0px 1px 3px 1px rgba(60, 64, 67, 0.15);\n",
              "      fill: #174EA6;\n",
              "    }\n",
              "\n",
              "    [theme=dark] .colab-df-convert {\n",
              "      background-color: #3B4455;\n",
              "      fill: #D2E3FC;\n",
              "    }\n",
              "\n",
              "    [theme=dark] .colab-df-convert:hover {\n",
              "      background-color: #434B5C;\n",
              "      box-shadow: 0px 1px 3px 1px rgba(0, 0, 0, 0.15);\n",
              "      filter: drop-shadow(0px 1px 2px rgba(0, 0, 0, 0.3));\n",
              "      fill: #FFFFFF;\n",
              "    }\n",
              "  </style>\n",
              "\n",
              "      <script>\n",
              "        const buttonEl =\n",
              "          document.querySelector('#df-9873db50-a455-4554-bbfb-8e5e6f206e2b button.colab-df-convert');\n",
              "        buttonEl.style.display =\n",
              "          google.colab.kernel.accessAllowed ? 'block' : 'none';\n",
              "\n",
              "        async function convertToInteractive(key) {\n",
              "          const element = document.querySelector('#df-9873db50-a455-4554-bbfb-8e5e6f206e2b');\n",
              "          const dataTable =\n",
              "            await google.colab.kernel.invokeFunction('convertToInteractive',\n",
              "                                                     [key], {});\n",
              "          if (!dataTable) return;\n",
              "\n",
              "          const docLinkHtml = 'Like what you see? Visit the ' +\n",
              "            '<a target=\"_blank\" href=https://colab.research.google.com/notebooks/data_table.ipynb>data table notebook</a>'\n",
              "            + ' to learn more about interactive tables.';\n",
              "          element.innerHTML = '';\n",
              "          dataTable['output_type'] = 'display_data';\n",
              "          await google.colab.output.renderOutput(dataTable, element);\n",
              "          const docLink = document.createElement('div');\n",
              "          docLink.innerHTML = docLinkHtml;\n",
              "          element.appendChild(docLink);\n",
              "        }\n",
              "      </script>\n",
              "    </div>\n",
              "  </div>\n",
              "  "
            ]
          },
          "metadata": {},
          "execution_count": 16
        }
      ]
    },
    {
      "cell_type": "code",
      "source": [
        "df['Description'] = df['Description'].fillna('No Description')"
      ],
      "metadata": {
        "id": "xTE18wW4I8ws",
        "colab": {
          "base_uri": "https://localhost:8080/"
        },
        "outputId": "2de6d687-4b08-46e0-b5cf-941f15aac186"
      },
      "execution_count": 17,
      "outputs": [
        {
          "output_type": "stream",
          "name": "stderr",
          "text": [
            "/usr/local/lib/python3.7/dist-packages/ipykernel_launcher.py:1: SettingWithCopyWarning: \n",
            "A value is trying to be set on a copy of a slice from a DataFrame.\n",
            "Try using .loc[row_indexer,col_indexer] = value instead\n",
            "\n",
            "See the caveats in the documentation: https://pandas.pydata.org/pandas-docs/stable/user_guide/indexing.html#returning-a-view-versus-a-copy\n",
            "  \"\"\"Entry point for launching an IPython kernel.\n"
          ]
        }
      ]
    },
    {
      "cell_type": "code",
      "source": [
        "# List of Dangerous permissions and safe permissions:\n",
        "danger_perm = [col for col in df.columns if col[-3:]=='(D)']\n",
        "safe_perm = [col for col in df.columns if col[-3:]=='(S)']"
      ],
      "metadata": {
        "id": "itBQ_n46JAEQ"
      },
      "execution_count": 18,
      "outputs": []
    },
    {
      "cell_type": "code",
      "source": [
        "# Function to find Dangerous permission count to fill the null values:\n",
        "def danger_perm_count(x):\n",
        "    global danger_perm\n",
        "    return float(x[danger_perm].sum())"
      ],
      "metadata": {
        "id": "bd_AN2aCJFgz"
      },
      "execution_count": 19,
      "outputs": []
    },
    {
      "cell_type": "code",
      "source": [
        "df['Dangerous permissions count']= df.apply(danger_perm_count, axis=1)"
      ],
      "metadata": {
        "id": "ViKY0U35JIiE",
        "colab": {
          "base_uri": "https://localhost:8080/"
        },
        "outputId": "fc13d3bd-fecb-4f35-a416-653534540a76"
      },
      "execution_count": 20,
      "outputs": [
        {
          "output_type": "stream",
          "name": "stderr",
          "text": [
            "/usr/local/lib/python3.7/dist-packages/ipykernel_launcher.py:1: SettingWithCopyWarning: \n",
            "A value is trying to be set on a copy of a slice from a DataFrame.\n",
            "Try using .loc[row_indexer,col_indexer] = value instead\n",
            "\n",
            "See the caveats in the documentation: https://pandas.pydata.org/pandas-docs/stable/user_guide/indexing.html#returning-a-view-versus-a-copy\n",
            "  \"\"\"Entry point for launching an IPython kernel.\n"
          ]
        }
      ]
    },
    {
      "cell_type": "code",
      "source": [
        "# Filling null values of related apps as None since can't extrapolate them:\n",
        "df['Related apps'] = df['Related apps'].fillna('None')"
      ],
      "metadata": {
        "id": "Ajl5efIiJK9X",
        "colab": {
          "base_uri": "https://localhost:8080/"
        },
        "outputId": "8b537e96-13b6-40b2-e0e7-2a992c0a6bde"
      },
      "execution_count": 21,
      "outputs": [
        {
          "output_type": "stream",
          "name": "stderr",
          "text": [
            "/usr/local/lib/python3.7/dist-packages/ipykernel_launcher.py:2: SettingWithCopyWarning: \n",
            "A value is trying to be set on a copy of a slice from a DataFrame.\n",
            "Try using .loc[row_indexer,col_indexer] = value instead\n",
            "\n",
            "See the caveats in the documentation: https://pandas.pydata.org/pandas-docs/stable/user_guide/indexing.html#returning-a-view-versus-a-copy\n",
            "  \n"
          ]
        }
      ]
    },
    {
      "cell_type": "code",
      "source": [
        "df.isnull().sum().sort_values(ascending = False)"
      ],
      "metadata": {
        "colab": {
          "base_uri": "https://localhost:8080/"
        },
        "id": "hqHPQ2SJJQzP",
        "outputId": "245935cf-fd6d-4912-f655-a978ea224d90"
      },
      "execution_count": 22,
      "outputs": [
        {
          "output_type": "execute_result",
          "data": {
            "text/plain": [
              "App                                                        0\n",
              "System tools : set time zone (D)                           0\n",
              "System tools : read subscribed feeds (S)                   0\n",
              "System tools : read sync settings (S)                      0\n",
              "System tools : read sync statistics (S)                    0\n",
              "                                                          ..\n",
              "Default : record what you type and actions you take (S)    0\n",
              "Default : reset system to factory defaults (S)             0\n",
              "Default : run in factory test mode (S)                     0\n",
              "Default : set time (S)                                     0\n",
              "Class                                                      0\n",
              "Length: 184, dtype: int64"
            ]
          },
          "metadata": {},
          "execution_count": 22
        }
      ]
    },
    {
      "cell_type": "markdown",
      "source": [
        " **Thus, all the null values are treated. Moving to the duplicates one.**"
      ],
      "metadata": {
        "id": "cClzIOecJbY-"
      }
    },
    {
      "cell_type": "markdown",
      "source": [
        "# Duplicates:"
      ],
      "metadata": {
        "id": "jP-85hcyJct5"
      }
    },
    {
      "cell_type": "code",
      "source": [
        "df.duplicated().sum()"
      ],
      "metadata": {
        "colab": {
          "base_uri": "https://localhost:8080/"
        },
        "id": "5Hmimft5JTc9",
        "outputId": "a7cd5fe3-578b-4ec1-899b-ab7241c33678"
      },
      "execution_count": 23,
      "outputs": [
        {
          "output_type": "execute_result",
          "data": {
            "text/plain": [
              "2689"
            ]
          },
          "metadata": {},
          "execution_count": 23
        }
      ]
    },
    {
      "cell_type": "code",
      "source": [
        "# Dropping the duplicates:\n",
        "df= df.drop_duplicates()"
      ],
      "metadata": {
        "id": "U7Dwm15aJpVz"
      },
      "execution_count": 24,
      "outputs": []
    },
    {
      "cell_type": "code",
      "source": [
        "# effective shape after basic pre-processing:\n",
        "df.shape"
      ],
      "metadata": {
        "colab": {
          "base_uri": "https://localhost:8080/"
        },
        "id": "yP-2s-OmJsl9",
        "outputId": "8dc0c10b-f34d-4f31-fa24-f72fac535ec4"
      },
      "execution_count": 25,
      "outputs": [
        {
          "output_type": "execute_result",
          "data": {
            "text/plain": [
              "(27309, 184)"
            ]
          },
          "metadata": {},
          "execution_count": 25
        }
      ]
    },
    {
      "cell_type": "markdown",
      "source": [
        "# Univariate Analysis:"
      ],
      "metadata": {
        "id": "Vs0TA8IrJ0dn"
      }
    },
    {
      "cell_type": "code",
      "source": [
        "# Apps in data belongs to the categories:\n",
        "plt.figure(figsize = (10,9))\n",
        "sns.countplot(data = df, y = 'Category',order =df['Category'].value_counts().index )\n",
        "plt.show()"
      ],
      "metadata": {
        "colab": {
          "base_uri": "https://localhost:8080/",
          "height": 551
        },
        "id": "Y1Y_TVAEKuPR",
        "outputId": "d18d8c61-fced-4762-d4b9-5320c9ce5c19"
      },
      "execution_count": 26,
      "outputs": [
        {
          "output_type": "display_data",
          "data": {
            "text/plain": [
              "<Figure size 720x648 with 1 Axes>"
            ],
            "image/png": "[encoded data removed]"
          },
          "metadata": {
            "needs_background": "light"
          }
        }
      ]
    },
    {
      "cell_type": "code",
      "source": [
        "# Let's analyse the ratings:\n",
        "plt.figure(figsize = (15,5))\n",
        "sns.histplot(data = df, x = 'Rating',bins= 50);"
      ],
      "metadata": {
        "colab": {
          "base_uri": "https://localhost:8080/",
          "height": 334
        },
        "id": "RujGiQNjLFMX",
        "outputId": "59413104-8550-444a-b2fa-ada82de60d48"
      },
      "execution_count": 28,
      "outputs": [
        {
          "output_type": "display_data",
          "data": {
            "text/plain": [
              "<Figure size 1080x360 with 1 Axes>"
            ],
            "image/png": "[encoded data removed]"
          },
          "metadata": {
            "needs_background": "light"
          }
        }
      ]
    },
    {
      "cell_type": "code",
      "source": [
        "#help(sns.histplot)"
      ],
      "metadata": {
        "id": "w3rpuFx0LWmX"
      },
      "execution_count": null,
      "outputs": []
    },
    {
      "cell_type": "code",
      "source": [
        "# Analysing the number of ratings each app is getting: \n",
        "plt.figure(figsize = (15,5))\n",
        "plt.plot(df['Number of ratings'])\n",
        "plt.xlabel('Index location of the app')\n",
        "plt.ylabel(\" Number of ratings\");\n"
      ],
      "metadata": {
        "colab": {
          "base_uri": "https://localhost:8080/",
          "height": 345
        },
        "id": "bt83KmFURlB2",
        "outputId": "ca6ae9cc-f465-41de-8c76-efeb3dbc8729"
      },
      "execution_count": 29,
      "outputs": [
        {
          "output_type": "display_data",
          "data": {
            "text/plain": [
              "<Figure size 1080x360 with 1 Axes>"
            ],
            "image/png": "[encoded data removed]"
          },
          "metadata": {
            "needs_background": "light"
          }
        }
      ]
    },
    {
      "cell_type": "code",
      "source": [
        "# Number of safe permissions:\n",
        "len(safe_perm)"
      ],
      "metadata": {
        "colab": {
          "base_uri": "https://localhost:8080/"
        },
        "id": "PiOfTT-KOTpu",
        "outputId": "a952f175-97f7-4722-ee4f-477e9951475d"
      },
      "execution_count": 31,
      "outputs": [
        {
          "output_type": "execute_result",
          "data": {
            "text/plain": [
              "99"
            ]
          },
          "metadata": {},
          "execution_count": 31
        }
      ]
    },
    {
      "cell_type": "code",
      "source": [
        "# Number of dangerous permissions:\n",
        "len(danger_perm)"
      ],
      "metadata": {
        "colab": {
          "base_uri": "https://localhost:8080/"
        },
        "id": "YySU0xvKNkyn",
        "outputId": "9fa003cb-d81b-411f-a119-f62fe78eaa48"
      },
      "execution_count": 32,
      "outputs": [
        {
          "output_type": "execute_result",
          "data": {
            "text/plain": [
              "74"
            ]
          },
          "metadata": {},
          "execution_count": 32
        }
      ]
    },
    {
      "cell_type": "code",
      "source": [
        "help(sns.histplot)"
      ],
      "metadata": {
        "id": "czaiQRcg-ThE"
      },
      "execution_count": null,
      "outputs": []
    },
    {
      "cell_type": "code",
      "source": [
        "# Let's analyse the number of dangerous permission counts:\n",
        "plt.figure(figsize = (15,5))\n",
        "sns.histplot(data = df, x = 'Dangerous permissions count',hue = 'Class',legend = True,bins= 50)\n",
        "plt.xticks(np.arange(0,30,1))\n",
        "plt.legend(['Benign','Malware']);"
      ],
      "metadata": {
        "colab": {
          "base_uri": "https://localhost:8080/",
          "height": 334
        },
        "id": "0tOejdI5ORO_",
        "outputId": "d1ccbee4-db09-4f0a-9d15-d6b393c1aa55"
      },
      "execution_count": 43,
      "outputs": [
        {
          "output_type": "display_data",
          "data": {
            "text/plain": [
              "<Figure size 1080x360 with 1 Axes>"
            ],
            "image/png": "[encoded data removed]"
          },
          "metadata": {
            "needs_background": "light"
          }
        }
      ]
    },
    {
      "cell_type": "code",
      "source": [
        "# Let's analyse the number of safe permission counts:\n",
        "plt.figure(figsize = (15,5))\n",
        "sns.histplot(data = df, x = 'Safe permissions count',hue = 'Class',legend = True,bins= 50)\n",
        "plt.legend(['Benign','Malware'])\n",
        "plt.xticks(np.arange(0,16,1));"
      ],
      "metadata": {
        "colab": {
          "base_uri": "https://localhost:8080/",
          "height": 334
        },
        "id": "8xaSxGYJPYYS",
        "outputId": "57180597-ea6c-4cf7-cd38-6afc28f1d61e"
      },
      "execution_count": 45,
      "outputs": [
        {
          "output_type": "display_data",
          "data": {
            "text/plain": [
              "<Figure size 1080x360 with 1 Axes>"
            ],
            "image/png": "[encoded data removed]"
          },
          "metadata": {
            "needs_background": "light"
          }
        }
      ]
    },
    {
      "cell_type": "code",
      "source": [
        "sns.scatterplot(x='Safe permissions count',y='Dangerous permissions count',data=df,hue='Class',palette='Dark2');"
      ],
      "metadata": {
        "colab": {
          "base_uri": "https://localhost:8080/",
          "height": 279
        },
        "id": "1pqRzUi1NHnP",
        "outputId": "d7d0ae14-f943-4e24-aa57-2a7713e891dd"
      },
      "execution_count": 96,
      "outputs": [
        {
          "output_type": "display_data",
          "data": {
            "text/plain": [
              "<Figure size 432x288 with 1 Axes>"
            ],
            "image/png": "[encoded data removed]"
          },
          "metadata": {
            "needs_background": "light"
          }
        }
      ]
    },
    {
      "cell_type": "code",
      "source": [
        "# Analysing the class variable:\n",
        "df['Class'].value_counts()"
      ],
      "metadata": {
        "colab": {
          "base_uri": "https://localhost:8080/"
        },
        "id": "8IB3Ob2gPj0l",
        "outputId": "2e024415-06bc-4c0d-dc05-499c20b188f5"
      },
      "execution_count": null,
      "outputs": [
        {
          "output_type": "execute_result",
          "data": {
            "text/plain": [
              "1    18231\n",
              "0     9078\n",
              "Name: Class, dtype: int64"
            ]
          },
          "metadata": {},
          "execution_count": 49
        }
      ]
    },
    {
      "cell_type": "code",
      "source": [
        "#help(plt.pie)"
      ],
      "metadata": {
        "id": "-gWO8N7fQaYH"
      },
      "execution_count": null,
      "outputs": []
    },
    {
      "cell_type": "code",
      "source": [
        "# Visualising the label:\n",
        "ax = sns.countplot(data = df, x = 'Class')\n",
        "ax.set_xticklabels(['Benign', 'Malware']);"
      ],
      "metadata": {
        "id": "ZCCNc0YDQlbN",
        "colab": {
          "base_uri": "https://localhost:8080/",
          "height": 279
        },
        "outputId": "548aa1b4-89d7-448e-f46d-e89a95d79a83"
      },
      "execution_count": 54,
      "outputs": [
        {
          "output_type": "display_data",
          "data": {
            "text/plain": [
              "<Figure size 432x288 with 1 Axes>"
            ],
            "image/png": "[encoded data removed]"
          },
          "metadata": {
            "needs_background": "light"
          }
        }
      ]
    },
    {
      "cell_type": "markdown",
      "source": [
        "Clearly the data is slightly imbalanced. i.e. 66:33 ratio . Thus, we can go ahead with it. Only if there will be huge difference in Accuracy, precision and recall, then we'll consider handlong it."
      ],
      "metadata": {
        "id": "NfhgBju3AnEl"
      }
    },
    {
      "cell_type": "code",
      "source": [
        "#help(sns.countplot)"
      ],
      "metadata": {
        "id": "7uewrfsfCn2w"
      },
      "execution_count": 66,
      "outputs": []
    },
    {
      "cell_type": "code",
      "source": [
        "# Class variation with App type:\n",
        "plt.figure(figsize = (10,10))\n",
        "sns.countplot(data = df, y = 'Category',hue = 'Class',order =df.groupby(['Category']).count()['Class'].sort_values(ascending = False).index)\n",
        "\n",
        "plt.show()"
      ],
      "metadata": {
        "colab": {
          "base_uri": "https://localhost:8080/",
          "height": 606
        },
        "id": "uHkSVPjU_4lQ",
        "outputId": "444f8997-f015-4d9a-bae3-392c3a75ff29"
      },
      "execution_count": 64,
      "outputs": [
        {
          "output_type": "display_data",
          "data": {
            "text/plain": [
              "<Figure size 720x720 with 1 Axes>"
            ],
            "image/png": "[encoded data removed]"
          },
          "metadata": {
            "needs_background": "light"
          }
        }
      ]
    },
    {
      "cell_type": "markdown",
      "source": [
        "According to historical Data, Entertainment, Travel and Books app are most of the malware apps."
      ],
      "metadata": {
        "id": "UwAyxqhdC8wP"
      }
    },
    {
      "cell_type": "code",
      "source": [
        "# Making App name as index:\n",
        "df = df.set_index('App')"
      ],
      "metadata": {
        "id": "9PNoFaxcBTUL"
      },
      "execution_count": 67,
      "outputs": []
    },
    {
      "cell_type": "code",
      "source": [
        "df.head()"
      ],
      "metadata": {
        "colab": {
          "base_uri": "https://localhost:8080/",
          "height": 695
        },
        "id": "7pcaT8PgGCWH",
        "outputId": "6f2e6299-f7af-4053-bd7b-758f3a3ee9b0"
      },
      "execution_count": 68,
      "outputs": [
        {
          "output_type": "execute_result",
          "data": {
            "text/plain": [
              "                                                                 Package  \\\n",
              "App                                                                        \n",
              "Canada Post Corporation                           com.canadapost.android   \n",
              "Word Farm                                      com.realcasualgames.words   \n",
              "Fortunes of War FREE                                  fortunesofwar.free   \n",
              "Better Keyboard: Avatar Purple  com.cc.betterkeyboard.skins.avatarpurple   \n",
              "Boxing Day                                    indiaNIC.android.BoxingDay   \n",
              "\n",
              "                                        Category  \\\n",
              "App                                                \n",
              "Canada Post Corporation                 Business   \n",
              "Word Farm                         Brain & Puzzle   \n",
              "Fortunes of War FREE              Cards & Casino   \n",
              "Better Keyboard: Avatar Purple  Libraries & Demo   \n",
              "Boxing Day                             Lifestyle   \n",
              "\n",
              "                                                                      Description  \\\n",
              "App                                                                                 \n",
              "Canada Post Corporation         Canada Post Mobile App gives you access to som...   \n",
              "Word Farm                       Speed and strategy combine in this exciting wo...   \n",
              "Fortunes of War FREE            Fortunes of War is a fast-paced, easy to learn...   \n",
              "Better Keyboard: Avatar Purple  Skin for Better Keyboard featuring a glossy fe...   \n",
              "Boxing Day                      Boxing Day by Christopher Jaymes<p>Based on a ...   \n",
              "\n",
              "                                Rating  Number of ratings  Price  \\\n",
              "App                                                                \n",
              "Canada Post Corporation            3.1                 77   0.00   \n",
              "Word Farm                          4.3                199   0.00   \n",
              "Fortunes of War FREE               4.1                243   0.00   \n",
              "Better Keyboard: Avatar Purple     3.6               2589   0.00   \n",
              "Boxing Day                         0.0                  0   5.99   \n",
              "\n",
              "                                                                     Related apps  \\\n",
              "App                                                                                 \n",
              "Canada Post Corporation         {com.adaffix.pub.ca.android, com.kevinquan.gas...   \n",
              "Word Farm                       {air.com.zubawing.FastWordLite, com.joybits.do...   \n",
              "Fortunes of War FREE            {com.kevinquan.condado, hu.monsta.pazaak, net....   \n",
              "Better Keyboard: Avatar Purple  {eu.gdumoulin.betterandroid.skins.transparent....   \n",
              "Boxing Day                                                                   None   \n",
              "\n",
              "                                Dangerous permissions count  \\\n",
              "App                                                           \n",
              "Canada Post Corporation                                 7.0   \n",
              "Word Farm                                               3.0   \n",
              "Fortunes of War FREE                                    1.0   \n",
              "Better Keyboard: Avatar Purple                          0.0   \n",
              "Boxing Day                                              1.0   \n",
              "\n",
              "                                Safe permissions count  \\\n",
              "App                                                      \n",
              "Canada Post Corporation                              1   \n",
              "Word Farm                                            2   \n",
              "Fortunes of War FREE                                 1   \n",
              "Better Keyboard: Avatar Purple                       0   \n",
              "Boxing Day                                           0   \n",
              "\n",
              "                                Default : Access DRM content. (S)  ...  \\\n",
              "App                                                                ...   \n",
              "Canada Post Corporation                                         0  ...   \n",
              "Word Farm                                                       0  ...   \n",
              "Fortunes of War FREE                                            0  ...   \n",
              "Better Keyboard: Avatar Purple                                  0  ...   \n",
              "Boxing Day                                                      0  ...   \n",
              "\n",
              "                                Your personal information : read calendar events (D)  \\\n",
              "App                                                                                    \n",
              "Canada Post Corporation                                                         0      \n",
              "Word Farm                                                                       0      \n",
              "Fortunes of War FREE                                                            0      \n",
              "Better Keyboard: Avatar Purple                                                  0      \n",
              "Boxing Day                                                                      0      \n",
              "\n",
              "                                Your personal information : read contact data (D)  \\\n",
              "App                                                                                 \n",
              "Canada Post Corporation                                                         1   \n",
              "Word Farm                                                                       0   \n",
              "Fortunes of War FREE                                                            0   \n",
              "Better Keyboard: Avatar Purple                                                  0   \n",
              "Boxing Day                                                                      0   \n",
              "\n",
              "                                Your personal information : read sensitive log data (D)  \\\n",
              "App                                                                                       \n",
              "Canada Post Corporation                                                         0         \n",
              "Word Farm                                                                       0         \n",
              "Fortunes of War FREE                                                            0         \n",
              "Better Keyboard: Avatar Purple                                                  0         \n",
              "Boxing Day                                                                      0         \n",
              "\n",
              "                                Your personal information : read user defined dictionary (D)  \\\n",
              "App                                                                                            \n",
              "Canada Post Corporation                                                         0              \n",
              "Word Farm                                                                       0              \n",
              "Fortunes of War FREE                                                            0              \n",
              "Better Keyboard: Avatar Purple                                                  0              \n",
              "Boxing Day                                                                      0              \n",
              "\n",
              "                                Your personal information : retrieve system internal state (S)  \\\n",
              "App                                                                                              \n",
              "Canada Post Corporation                                                         0                \n",
              "Word Farm                                                                       0                \n",
              "Fortunes of War FREE                                                            0                \n",
              "Better Keyboard: Avatar Purple                                                  0                \n",
              "Boxing Day                                                                      0                \n",
              "\n",
              "                                Your personal information : set alarm in alarm clock (S)  \\\n",
              "App                                                                                        \n",
              "Canada Post Corporation                                                         0          \n",
              "Word Farm                                                                       0          \n",
              "Fortunes of War FREE                                                            0          \n",
              "Better Keyboard: Avatar Purple                                                  0          \n",
              "Boxing Day                                                                      0          \n",
              "\n",
              "                                Your personal information : write Browser's history and bookmarks (D)  \\\n",
              "App                                                                                                     \n",
              "Canada Post Corporation                                                         0                       \n",
              "Word Farm                                                                       0                       \n",
              "Fortunes of War FREE                                                            0                       \n",
              "Better Keyboard: Avatar Purple                                                  0                       \n",
              "Boxing Day                                                                      0                       \n",
              "\n",
              "                                Your personal information : write contact data (D)  \\\n",
              "App                                                                                  \n",
              "Canada Post Corporation                                                         1    \n",
              "Word Farm                                                                       0    \n",
              "Fortunes of War FREE                                                            0    \n",
              "Better Keyboard: Avatar Purple                                                  0    \n",
              "Boxing Day                                                                      0    \n",
              "\n",
              "                                Your personal information : write to user defined dictionary (S)  \\\n",
              "App                                                                                                \n",
              "Canada Post Corporation                                                         0                  \n",
              "Word Farm                                                                       0                  \n",
              "Fortunes of War FREE                                                            0                  \n",
              "Better Keyboard: Avatar Purple                                                  0                  \n",
              "Boxing Day                                                                      0                  \n",
              "\n",
              "                                Class  \n",
              "App                                    \n",
              "Canada Post Corporation             0  \n",
              "Word Farm                           0  \n",
              "Fortunes of War FREE                0  \n",
              "Better Keyboard: Avatar Purple      0  \n",
              "Boxing Day                          1  \n",
              "\n",
              "[5 rows x 183 columns]"
            ],
            "text/html": [
              "\n",
              "  <div id=\"df-56496a53-3d7e-4c00-bcb9-beff7112bd2d\">\n",
              "    <div class=\"colab-df-container\">\n",
              "      <div>\n",
              "<style scoped>\n",
              "    .dataframe tbody tr th:only-of-type {\n",
              "        vertical-align: middle;\n",
              "    }\n",
              "\n",
              "    .dataframe tbody tr th {\n",
              "        vertical-align: top;\n",
              "    }\n",
              "\n",
              "    .dataframe thead th {\n",
              "        text-align: right;\n",
              "    }\n",
              "</style>\n",
              "<table border=\"1\" class=\"dataframe\">\n",
              "  <thead>\n",
              "    <tr style=\"text-align: right;\">\n",
              "      <th></th>\n",
              "      <th>Package</th>\n",
              "      <th>Category</th>\n",
              "      <th>Description</th>\n",
              "      <th>Rating</th>\n",
              "      <th>Number of ratings</th>\n",
              "      <th>Price</th>\n",
              "      <th>Related apps</th>\n",
              "      <th>Dangerous permissions count</th>\n",
              "      <th>Safe permissions count</th>\n",
              "      <th>Default : Access DRM content. (S)</th>\n",
              "      <th>...</th>\n",
              "      <th>Your personal information : read calendar events (D)</th>\n",
              "      <th>Your personal information : read contact data (D)</th>\n",
              "      <th>Your personal information : read sensitive log data (D)</th>\n",
              "      <th>Your personal information : read user defined dictionary (D)</th>\n",
              "      <th>Your personal information : retrieve system internal state (S)</th>\n",
              "      <th>Your personal information : set alarm in alarm clock (S)</th>\n",
              "      <th>Your personal information : write Browser's history and bookmarks (D)</th>\n",
              "      <th>Your personal information : write contact data (D)</th>\n",
              "      <th>Your personal information : write to user defined dictionary (S)</th>\n",
              "      <th>Class</th>\n",
              "    </tr>\n",
              "    <tr>\n",
              "      <th>App</th>\n",
              "      <th></th>\n",
              "      <th></th>\n",
              "      <th></th>\n",
              "      <th></th>\n",
              "      <th></th>\n",
              "      <th></th>\n",
              "      <th></th>\n",
              "      <th></th>\n",
              "      <th></th>\n",
              "      <th></th>\n",
              "      <th></th>\n",
              "      <th></th>\n",
              "      <th></th>\n",
              "      <th></th>\n",
              "      <th></th>\n",
              "      <th></th>\n",
              "      <th></th>\n",
              "      <th></th>\n",
              "      <th></th>\n",
              "      <th></th>\n",
              "      <th></th>\n",
              "    </tr>\n",
              "  </thead>\n",
              "  <tbody>\n",
              "    <tr>\n",
              "      <th>Canada Post Corporation</th>\n",
              "      <td>com.canadapost.android</td>\n",
              "      <td>Business</td>\n",
              "      <td>Canada Post Mobile App gives you access to som...</td>\n",
              "      <td>3.1</td>\n",
              "      <td>77</td>\n",
              "      <td>0.00</td>\n",
              "      <td>{com.adaffix.pub.ca.android, com.kevinquan.gas...</td>\n",
              "      <td>7.0</td>\n",
              "      <td>1</td>\n",
              "      <td>0</td>\n",
              "      <td>...</td>\n",
              "      <td>0</td>\n",
              "      <td>1</td>\n",
              "      <td>0</td>\n",
              "      <td>0</td>\n",
              "      <td>0</td>\n",
              "      <td>0</td>\n",
              "      <td>0</td>\n",
              "      <td>1</td>\n",
              "      <td>0</td>\n",
              "      <td>0</td>\n",
              "    </tr>\n",
              "    <tr>\n",
              "      <th>Word Farm</th>\n",
              "      <td>com.realcasualgames.words</td>\n",
              "      <td>Brain &amp; Puzzle</td>\n",
              "      <td>Speed and strategy combine in this exciting wo...</td>\n",
              "      <td>4.3</td>\n",
              "      <td>199</td>\n",
              "      <td>0.00</td>\n",
              "      <td>{air.com.zubawing.FastWordLite, com.joybits.do...</td>\n",
              "      <td>3.0</td>\n",
              "      <td>2</td>\n",
              "      <td>0</td>\n",
              "      <td>...</td>\n",
              "      <td>0</td>\n",
              "      <td>0</td>\n",
              "      <td>0</td>\n",
              "      <td>0</td>\n",
              "      <td>0</td>\n",
              "      <td>0</td>\n",
              "      <td>0</td>\n",
              "      <td>0</td>\n",
              "      <td>0</td>\n",
              "      <td>0</td>\n",
              "    </tr>\n",
              "    <tr>\n",
              "      <th>Fortunes of War FREE</th>\n",
              "      <td>fortunesofwar.free</td>\n",
              "      <td>Cards &amp; Casino</td>\n",
              "      <td>Fortunes of War is a fast-paced, easy to learn...</td>\n",
              "      <td>4.1</td>\n",
              "      <td>243</td>\n",
              "      <td>0.00</td>\n",
              "      <td>{com.kevinquan.condado, hu.monsta.pazaak, net....</td>\n",
              "      <td>1.0</td>\n",
              "      <td>1</td>\n",
              "      <td>0</td>\n",
              "      <td>...</td>\n",
              "      <td>0</td>\n",
              "      <td>0</td>\n",
              "      <td>0</td>\n",
              "      <td>0</td>\n",
              "      <td>0</td>\n",
              "      <td>0</td>\n",
              "      <td>0</td>\n",
              "      <td>0</td>\n",
              "      <td>0</td>\n",
              "      <td>0</td>\n",
              "    </tr>\n",
              "    <tr>\n",
              "      <th>Better Keyboard: Avatar Purple</th>\n",
              "      <td>com.cc.betterkeyboard.skins.avatarpurple</td>\n",
              "      <td>Libraries &amp; Demo</td>\n",
              "      <td>Skin for Better Keyboard featuring a glossy fe...</td>\n",
              "      <td>3.6</td>\n",
              "      <td>2589</td>\n",
              "      <td>0.00</td>\n",
              "      <td>{eu.gdumoulin.betterandroid.skins.transparent....</td>\n",
              "      <td>0.0</td>\n",
              "      <td>0</td>\n",
              "      <td>0</td>\n",
              "      <td>...</td>\n",
              "      <td>0</td>\n",
              "      <td>0</td>\n",
              "      <td>0</td>\n",
              "      <td>0</td>\n",
              "      <td>0</td>\n",
              "      <td>0</td>\n",
              "      <td>0</td>\n",
              "      <td>0</td>\n",
              "      <td>0</td>\n",
              "      <td>0</td>\n",
              "    </tr>\n",
              "    <tr>\n",
              "      <th>Boxing Day</th>\n",
              "      <td>indiaNIC.android.BoxingDay</td>\n",
              "      <td>Lifestyle</td>\n",
              "      <td>Boxing Day by Christopher Jaymes&lt;p&gt;Based on a ...</td>\n",
              "      <td>0.0</td>\n",
              "      <td>0</td>\n",
              "      <td>5.99</td>\n",
              "      <td>None</td>\n",
              "      <td>1.0</td>\n",
              "      <td>0</td>\n",
              "      <td>0</td>\n",
              "      <td>...</td>\n",
              "      <td>0</td>\n",
              "      <td>0</td>\n",
              "      <td>0</td>\n",
              "      <td>0</td>\n",
              "      <td>0</td>\n",
              "      <td>0</td>\n",
              "      <td>0</td>\n",
              "      <td>0</td>\n",
              "      <td>0</td>\n",
              "      <td>1</td>\n",
              "    </tr>\n",
              "  </tbody>\n",
              "</table>\n",
              "<p>5 rows × 183 columns</p>\n",
              "</div>\n",
              "      <button class=\"colab-df-convert\" onclick=\"convertToInteractive('df-56496a53-3d7e-4c00-bcb9-beff7112bd2d')\"\n",
              "              title=\"Convert this dataframe to an interactive table.\"\n",
              "              style=\"display:none;\">\n",
              "        \n",
              "  <svg xmlns=\"http://www.w3.org/2000/svg\" height=\"24px\"viewBox=\"0 0 24 24\"\n",
              "       width=\"24px\">\n",
              "    <path d=\"M0 0h24v24H0V0z\" fill=\"none\"/>\n",
              "    <path d=\"M18.56 5.44l.94 2.06.94-2.06 2.06-.94-2.06-.94-.94-2.06-.94 2.06-2.06.94zm-11 1L8.5 8.5l.94-2.06 2.06-.94-2.06-.94L8.5 2.5l-.94 2.06-2.06.94zm10 10l.94 2.06.94-2.06 2.06-.94-2.06-.94-.94-2.06-.94 2.06-2.06.94z\"/><path d=\"M17.41 7.96l-1.37-1.37c-.4-.4-.92-.59-1.43-.59-.52 0-1.04.2-1.43.59L10.3 9.45l-7.72 7.72c-.78.78-.78 2.05 0 2.83L4 21.41c.39.39.9.59 1.41.59.51 0 1.02-.2 1.41-.59l7.78-7.78 2.81-2.81c.8-.78.8-2.07 0-2.86zM5.41 20L4 18.59l7.72-7.72 1.47 1.35L5.41 20z\"/>\n",
              "  </svg>\n",
              "      </button>\n",
              "      \n",
              "  <style>\n",
              "    .colab-df-container {\n",
              "      display:flex;\n",
              "      flex-wrap:wrap;\n",
              "      gap: 12px;\n",
              "    }\n",
              "\n",
              "    .colab-df-convert {\n",
              "      background-color: #E8F0FE;\n",
              "      border: none;\n",
              "      border-radius: 50%;\n",
              "      cursor: pointer;\n",
              "      display: none;\n",
              "      fill: #1967D2;\n",
              "      height: 32px;\n",
              "      padding: 0 0 0 0;\n",
              "      width: 32px;\n",
              "    }\n",
              "\n",
              "    .colab-df-convert:hover {\n",
              "      background-color: #E2EBFA;\n",
              "      box-shadow: 0px 1px 2px rgba(60, 64, 67, 0.3), 0px 1px 3px 1px rgba(60, 64, 67, 0.15);\n",
              "      fill: #174EA6;\n",
              "    }\n",
              "\n",
              "    [theme=dark] .colab-df-convert {\n",
              "      background-color: #3B4455;\n",
              "      fill: #D2E3FC;\n",
              "    }\n",
              "\n",
              "    [theme=dark] .colab-df-convert:hover {\n",
              "      background-color: #434B5C;\n",
              "      box-shadow: 0px 1px 3px 1px rgba(0, 0, 0, 0.15);\n",
              "      filter: drop-shadow(0px 1px 2px rgba(0, 0, 0, 0.3));\n",
              "      fill: #FFFFFF;\n",
              "    }\n",
              "  </style>\n",
              "\n",
              "      <script>\n",
              "        const buttonEl =\n",
              "          document.querySelector('#df-56496a53-3d7e-4c00-bcb9-beff7112bd2d button.colab-df-convert');\n",
              "        buttonEl.style.display =\n",
              "          google.colab.kernel.accessAllowed ? 'block' : 'none';\n",
              "\n",
              "        async function convertToInteractive(key) {\n",
              "          const element = document.querySelector('#df-56496a53-3d7e-4c00-bcb9-beff7112bd2d');\n",
              "          const dataTable =\n",
              "            await google.colab.kernel.invokeFunction('convertToInteractive',\n",
              "                                                     [key], {});\n",
              "          if (!dataTable) return;\n",
              "\n",
              "          const docLinkHtml = 'Like what you see? Visit the ' +\n",
              "            '<a target=\"_blank\" href=https://colab.research.google.com/notebooks/data_table.ipynb>data table notebook</a>'\n",
              "            + ' to learn more about interactive tables.';\n",
              "          element.innerHTML = '';\n",
              "          dataTable['output_type'] = 'display_data';\n",
              "          await google.colab.output.renderOutput(dataTable, element);\n",
              "          const docLink = document.createElement('div');\n",
              "          docLink.innerHTML = docLinkHtml;\n",
              "          element.appendChild(docLink);\n",
              "        }\n",
              "      </script>\n",
              "    </div>\n",
              "  </div>\n",
              "  "
            ]
          },
          "metadata": {},
          "execution_count": 68
        }
      ]
    },
    {
      "cell_type": "code",
      "source": [
        "numerical_columns = [col for col in df.describe().columns ]"
      ],
      "metadata": {
        "id": "qTFVv9_0GEDI"
      },
      "execution_count": 71,
      "outputs": []
    },
    {
      "cell_type": "code",
      "source": [
        "numerical_columns"
      ],
      "metadata": {
        "colab": {
          "base_uri": "https://localhost:8080/"
        },
        "id": "rp_GuQZbGR-7",
        "outputId": "521ee572-aea1-4bf2-e639-5ca8f9bb31f2"
      },
      "execution_count": 72,
      "outputs": [
        {
          "output_type": "execute_result",
          "data": {
            "text/plain": [
              "['Rating',\n",
              " 'Number of ratings',\n",
              " 'Price',\n",
              " 'Dangerous permissions count',\n",
              " 'Safe permissions count',\n",
              " 'Default : Access DRM content. (S)',\n",
              " 'Default : Access Email provider data (S)',\n",
              " 'Default : Access all system downloads (S)',\n",
              " 'Default : Access download manager. (S)',\n",
              " 'Default : Advanced download manager functions. (S)',\n",
              " 'Default : Audio File Access (S)',\n",
              " 'Default : Install DRM content. (S)',\n",
              " 'Default : Modify Google service configuration (S)',\n",
              " 'Default : Modify Google settings (S)',\n",
              " 'Default : Move application resources (S)',\n",
              " 'Default : Read Google settings (S)',\n",
              " 'Default : Send download notifications. (S)',\n",
              " 'Default : Voice Search Shortcuts (S)',\n",
              " 'Default : access SurfaceFlinger (S)',\n",
              " 'Default : access checkin properties (S)',\n",
              " 'Default : access the cache filesystem (S)',\n",
              " 'Default : access to passwords for Google accounts (S)',\n",
              " 'Default : act as an account authenticator (S)',\n",
              " 'Default : bind to a wallpaper (S)',\n",
              " 'Default : bind to an input method (S)',\n",
              " 'Default : change screen orientation (S)',\n",
              " 'Default : coarse (network-based) location (S)',\n",
              " 'Default : control location update notifications (S)',\n",
              " 'Default : control system backup and restore (S)',\n",
              " 'Default : delete applications (S)',\n",
              " \"Default : delete other applications' caches (S)\",\n",
              " \"Default : delete other applications' data (S)\",\n",
              " 'Default : directly call any phone numbers (S)',\n",
              " 'Default : directly install applications (S)',\n",
              " 'Default : disable or modify status bar (S)',\n",
              " 'Default : discover known accounts (S)',\n",
              " 'Default : display unauthorized windows (S)',\n",
              " 'Default : enable or disable application components (S)',\n",
              " 'Default : force application to close (S)',\n",
              " 'Default : force device reboot (S)',\n",
              " 'Default : full Internet access (S)',\n",
              " 'Default : interact with a device admin (S)',\n",
              " 'Default : manage application tokens (S)',\n",
              " 'Default : mock location sources for testing (S)',\n",
              " 'Default : modify battery statistics (S)',\n",
              " 'Default : modify secure system settings (S)',\n",
              " 'Default : modify the Google services map (S)',\n",
              " 'Default : modify/delete USB storage contents modify/delete SD card contents (S)',\n",
              " 'Default : monitor and control all application launching (S)',\n",
              " 'Default : partial shutdown (S)',\n",
              " 'Default : permanently disable device (S)',\n",
              " 'Default : permission to install a location provider (S)',\n",
              " 'Default : power device on or off (S)',\n",
              " 'Default : press keys and control buttons (S)',\n",
              " 'Default : prevent app switches (S)',\n",
              " 'Default : read frame buffer (S)',\n",
              " 'Default : read instant messages (S)',\n",
              " 'Default : read phone state and identity (S)',\n",
              " 'Default : record what you type and actions you take (S)',\n",
              " 'Default : reset system to factory defaults (S)',\n",
              " 'Default : run in factory test mode (S)',\n",
              " 'Default : set time (S)',\n",
              " 'Default : set wallpaper size hints (S)',\n",
              " 'Default : start IM service (S)',\n",
              " 'Default : update component usage statistics (S)',\n",
              " 'Default : write contact data (S)',\n",
              " 'Default : write instant messages (S)',\n",
              " 'Development tools : enable application debugging (D)',\n",
              " 'Development tools : limit number of running processes (D)',\n",
              " 'Development tools : make all background applications close (D)',\n",
              " 'Development tools : send Linux signals to applications (D)',\n",
              " 'Hardware controls : change your audio settings (D)',\n",
              " 'Hardware controls : control flashlight (S)',\n",
              " 'Hardware controls : control vibrator (S)',\n",
              " 'Hardware controls : record audio (D)',\n",
              " 'Hardware controls : take pictures and videos (D)',\n",
              " 'Hardware controls : test hardware (S)',\n",
              " 'Network communication : Broadcast data messages to applications. (S)',\n",
              " 'Network communication : control Near Field Communication (D)',\n",
              " 'Network communication : create Bluetooth connections (D)',\n",
              " 'Network communication : download files without notification (S)',\n",
              " 'Network communication : full Internet access (D)',\n",
              " 'Network communication : make/receive Internet calls (D)',\n",
              " 'Network communication : receive data from Internet (S)',\n",
              " 'Network communication : view Wi-Fi state (S)',\n",
              " 'Network communication : view network state (S)',\n",
              " 'Phone calls : intercept outgoing calls (D)',\n",
              " 'Phone calls : modify phone state (S)',\n",
              " 'Phone calls : read phone state and identity (D)',\n",
              " 'Services that cost you money : directly call phone numbers (D)',\n",
              " 'Services that cost you money : send SMS messages (D)',\n",
              " 'Storage : modify/delete USB storage contents modify/delete SD card contents (D)',\n",
              " 'System tools : allow Wi-Fi Multicast reception (D)',\n",
              " 'System tools : automatically start at boot (S)',\n",
              " 'System tools : bluetooth administration (D)',\n",
              " 'System tools : change Wi-Fi state (D)',\n",
              " 'System tools : change background data usage setting (S)',\n",
              " 'System tools : change network connectivity (D)',\n",
              " 'System tools : change your UI settings (D)',\n",
              " 'System tools : delete all application cache data (D)',\n",
              " 'System tools : disable keylock (D)',\n",
              " 'System tools : display system-level alerts (D)',\n",
              " 'System tools : expand/collapse status bar (S)',\n",
              " 'System tools : force stop other applications (S)',\n",
              " 'System tools : format external storage (D)',\n",
              " 'System tools : kill background processes (S)',\n",
              " 'System tools : make application always run (D)',\n",
              " 'System tools : measure application storage space (S)',\n",
              " 'System tools : modify global animation speed (D)',\n",
              " 'System tools : modify global system settings (D)',\n",
              " 'System tools : mount and unmount filesystems (D)',\n",
              " 'System tools : prevent device from sleeping (D)',\n",
              " 'System tools : read subscribed feeds (S)',\n",
              " 'System tools : read sync settings (S)',\n",
              " 'System tools : read sync statistics (S)',\n",
              " 'System tools : read/write to resources owned by diag (S)',\n",
              " 'System tools : reorder running applications (D)',\n",
              " 'System tools : retrieve running applications (D)',\n",
              " 'System tools : send package removed broadcast (S)',\n",
              " 'System tools : send sticky broadcast (S)',\n",
              " 'System tools : set preferred applications (S)',\n",
              " 'System tools : set time zone (D)',\n",
              " 'System tools : set wallpaper (S)',\n",
              " 'System tools : set wallpaper size hints (S)',\n",
              " 'System tools : write Access Point Name settings (D)',\n",
              " 'System tools : write subscribed feeds (D)',\n",
              " 'System tools : write sync settings (D)',\n",
              " 'Your accounts : Blogger (D)',\n",
              " 'Your accounts : Google App Engine (D)',\n",
              " 'Your accounts : Google Docs (D)',\n",
              " 'Your accounts : Google Finance (D)',\n",
              " 'Your accounts : Google Maps (D)',\n",
              " 'Your accounts : Google Spreadsheets (D)',\n",
              " 'Your accounts : Google Voice (D)',\n",
              " 'Your accounts : Google mail (D)',\n",
              " 'Your accounts : Picasa Web Albums (D)',\n",
              " 'Your accounts : YouTube (D)',\n",
              " 'Your accounts : YouTube usernames (D)',\n",
              " 'Your accounts : access all Google services (S)',\n",
              " 'Your accounts : access other Google services (D)',\n",
              " 'Your accounts : act as an account authenticator (D)',\n",
              " 'Your accounts : act as the AccountManagerService (S)',\n",
              " 'Your accounts : contacts data in Google accounts (D)',\n",
              " 'Your accounts : discover known accounts (S)',\n",
              " 'Your accounts : manage the accounts list (D)',\n",
              " 'Your accounts : read Google service configuration (S)',\n",
              " 'Your accounts : use the authentication credentials of an account (D)',\n",
              " 'Your accounts : view configured accounts (S)',\n",
              " 'Your location : access extra location provider commands (S)',\n",
              " 'Your location : coarse (network-based) location (D)',\n",
              " 'Your location : fine (GPS) location (D)',\n",
              " 'Your location : mock location sources for testing (D)',\n",
              " 'Your messages : Read Email attachments (D)',\n",
              " 'Your messages : Send Gmail (S)',\n",
              " 'Your messages : edit SMS or MMS (D)',\n",
              " 'Your messages : modify Gmail (D)',\n",
              " 'Your messages : read Gmail (D)',\n",
              " 'Your messages : read Gmail attachment previews (D)',\n",
              " 'Your messages : read SMS or MMS (D)',\n",
              " 'Your messages : read instant messages (D)',\n",
              " 'Your messages : receive MMS (D)',\n",
              " 'Your messages : receive SMS (D)',\n",
              " 'Your messages : receive WAP (D)',\n",
              " 'Your messages : send SMS-received broadcast (S)',\n",
              " 'Your messages : send WAP-PUSH-received broadcast (S)',\n",
              " 'Your messages : write instant messages (D)',\n",
              " 'Your personal information : add or modify calendar events and send email to guests (D)',\n",
              " 'Your personal information : choose widgets (S)',\n",
              " \"Your personal information : read Browser's history and bookmarks (D)\",\n",
              " 'Your personal information : read calendar events (D)',\n",
              " 'Your personal information : read contact data (D)',\n",
              " 'Your personal information : read sensitive log data (D)',\n",
              " 'Your personal information : read user defined dictionary (D)',\n",
              " 'Your personal information : retrieve system internal state (S)',\n",
              " 'Your personal information : set alarm in alarm clock (S)',\n",
              " \"Your personal information : write Browser's history and bookmarks (D)\",\n",
              " 'Your personal information : write contact data (D)',\n",
              " 'Your personal information : write to user defined dictionary (S)',\n",
              " 'Class']"
            ]
          },
          "metadata": {},
          "execution_count": 72
        }
      ]
    },
    {
      "cell_type": "code",
      "source": [
        "text_columns = ['Package','Category',\t'Description','Related apps']"
      ],
      "metadata": {
        "id": "s9mzOTuDGUwd"
      },
      "execution_count": 77,
      "outputs": []
    },
    {
      "cell_type": "code",
      "source": [
        "new_df = df[numerical_columns].copy()"
      ],
      "metadata": {
        "id": "m1y9cTpBGzTV"
      },
      "execution_count": 78,
      "outputs": []
    },
    {
      "cell_type": "code",
      "source": [
        "new_df.head()"
      ],
      "metadata": {
        "colab": {
          "base_uri": "https://localhost:8080/",
          "height": 557
        },
        "id": "V1DkcQSLHYbA",
        "outputId": "5bb103af-cc61-45fd-a526-7a224debf593"
      },
      "execution_count": 79,
      "outputs": [
        {
          "output_type": "execute_result",
          "data": {
            "text/plain": [
              "                                Rating  Number of ratings  Price  \\\n",
              "App                                                                \n",
              "Canada Post Corporation            3.1                 77   0.00   \n",
              "Word Farm                          4.3                199   0.00   \n",
              "Fortunes of War FREE               4.1                243   0.00   \n",
              "Better Keyboard: Avatar Purple     3.6               2589   0.00   \n",
              "Boxing Day                         0.0                  0   5.99   \n",
              "\n",
              "                                Dangerous permissions count  \\\n",
              "App                                                           \n",
              "Canada Post Corporation                                 7.0   \n",
              "Word Farm                                               3.0   \n",
              "Fortunes of War FREE                                    1.0   \n",
              "Better Keyboard: Avatar Purple                          0.0   \n",
              "Boxing Day                                              1.0   \n",
              "\n",
              "                                Safe permissions count  \\\n",
              "App                                                      \n",
              "Canada Post Corporation                              1   \n",
              "Word Farm                                            2   \n",
              "Fortunes of War FREE                                 1   \n",
              "Better Keyboard: Avatar Purple                       0   \n",
              "Boxing Day                                           0   \n",
              "\n",
              "                                Default : Access DRM content. (S)  \\\n",
              "App                                                                 \n",
              "Canada Post Corporation                                         0   \n",
              "Word Farm                                                       0   \n",
              "Fortunes of War FREE                                            0   \n",
              "Better Keyboard: Avatar Purple                                  0   \n",
              "Boxing Day                                                      0   \n",
              "\n",
              "                                Default : Access Email provider data (S)  \\\n",
              "App                                                                        \n",
              "Canada Post Corporation                                                0   \n",
              "Word Farm                                                              0   \n",
              "Fortunes of War FREE                                                   0   \n",
              "Better Keyboard: Avatar Purple                                         0   \n",
              "Boxing Day                                                             0   \n",
              "\n",
              "                                Default : Access all system downloads (S)  \\\n",
              "App                                                                         \n",
              "Canada Post Corporation                                                 0   \n",
              "Word Farm                                                               0   \n",
              "Fortunes of War FREE                                                    0   \n",
              "Better Keyboard: Avatar Purple                                          0   \n",
              "Boxing Day                                                              0   \n",
              "\n",
              "                                Default : Access download manager. (S)  \\\n",
              "App                                                                      \n",
              "Canada Post Corporation                                              0   \n",
              "Word Farm                                                            0   \n",
              "Fortunes of War FREE                                                 0   \n",
              "Better Keyboard: Avatar Purple                                       0   \n",
              "Boxing Day                                                           0   \n",
              "\n",
              "                                Default : Advanced download manager functions. (S)  \\\n",
              "App                                                                                  \n",
              "Canada Post Corporation                                                         0    \n",
              "Word Farm                                                                       0    \n",
              "Fortunes of War FREE                                                            0    \n",
              "Better Keyboard: Avatar Purple                                                  0    \n",
              "Boxing Day                                                                      0    \n",
              "\n",
              "                                ...  \\\n",
              "App                             ...   \n",
              "Canada Post Corporation         ...   \n",
              "Word Farm                       ...   \n",
              "Fortunes of War FREE            ...   \n",
              "Better Keyboard: Avatar Purple  ...   \n",
              "Boxing Day                      ...   \n",
              "\n",
              "                                Your personal information : read calendar events (D)  \\\n",
              "App                                                                                    \n",
              "Canada Post Corporation                                                         0      \n",
              "Word Farm                                                                       0      \n",
              "Fortunes of War FREE                                                            0      \n",
              "Better Keyboard: Avatar Purple                                                  0      \n",
              "Boxing Day                                                                      0      \n",
              "\n",
              "                                Your personal information : read contact data (D)  \\\n",
              "App                                                                                 \n",
              "Canada Post Corporation                                                         1   \n",
              "Word Farm                                                                       0   \n",
              "Fortunes of War FREE                                                            0   \n",
              "Better Keyboard: Avatar Purple                                                  0   \n",
              "Boxing Day                                                                      0   \n",
              "\n",
              "                                Your personal information : read sensitive log data (D)  \\\n",
              "App                                                                                       \n",
              "Canada Post Corporation                                                         0         \n",
              "Word Farm                                                                       0         \n",
              "Fortunes of War FREE                                                            0         \n",
              "Better Keyboard: Avatar Purple                                                  0         \n",
              "Boxing Day                                                                      0         \n",
              "\n",
              "                                Your personal information : read user defined dictionary (D)  \\\n",
              "App                                                                                            \n",
              "Canada Post Corporation                                                         0              \n",
              "Word Farm                                                                       0              \n",
              "Fortunes of War FREE                                                            0              \n",
              "Better Keyboard: Avatar Purple                                                  0              \n",
              "Boxing Day                                                                      0              \n",
              "\n",
              "                                Your personal information : retrieve system internal state (S)  \\\n",
              "App                                                                                              \n",
              "Canada Post Corporation                                                         0                \n",
              "Word Farm                                                                       0                \n",
              "Fortunes of War FREE                                                            0                \n",
              "Better Keyboard: Avatar Purple                                                  0                \n",
              "Boxing Day                                                                      0                \n",
              "\n",
              "                                Your personal information : set alarm in alarm clock (S)  \\\n",
              "App                                                                                        \n",
              "Canada Post Corporation                                                         0          \n",
              "Word Farm                                                                       0          \n",
              "Fortunes of War FREE                                                            0          \n",
              "Better Keyboard: Avatar Purple                                                  0          \n",
              "Boxing Day                                                                      0          \n",
              "\n",
              "                                Your personal information : write Browser's history and bookmarks (D)  \\\n",
              "App                                                                                                     \n",
              "Canada Post Corporation                                                         0                       \n",
              "Word Farm                                                                       0                       \n",
              "Fortunes of War FREE                                                            0                       \n",
              "Better Keyboard: Avatar Purple                                                  0                       \n",
              "Boxing Day                                                                      0                       \n",
              "\n",
              "                                Your personal information : write contact data (D)  \\\n",
              "App                                                                                  \n",
              "Canada Post Corporation                                                         1    \n",
              "Word Farm                                                                       0    \n",
              "Fortunes of War FREE                                                            0    \n",
              "Better Keyboard: Avatar Purple                                                  0    \n",
              "Boxing Day                                                                      0    \n",
              "\n",
              "                                Your personal information : write to user defined dictionary (S)  \\\n",
              "App                                                                                                \n",
              "Canada Post Corporation                                                         0                  \n",
              "Word Farm                                                                       0                  \n",
              "Fortunes of War FREE                                                            0                  \n",
              "Better Keyboard: Avatar Purple                                                  0                  \n",
              "Boxing Day                                                                      0                  \n",
              "\n",
              "                                Class  \n",
              "App                                    \n",
              "Canada Post Corporation             0  \n",
              "Word Farm                           0  \n",
              "Fortunes of War FREE                0  \n",
              "Better Keyboard: Avatar Purple      0  \n",
              "Boxing Day                          1  \n",
              "\n",
              "[5 rows x 179 columns]"
            ],
            "text/html": [
              "\n",
              "  <div id=\"df-32453076-c45b-47e0-b4f2-d51004fa71df\">\n",
              "    <div class=\"colab-df-container\">\n",
              "      <div>\n",
              "<style scoped>\n",
              "    .dataframe tbody tr th:only-of-type {\n",
              "        vertical-align: middle;\n",
              "    }\n",
              "\n",
              "    .dataframe tbody tr th {\n",
              "        vertical-align: top;\n",
              "    }\n",
              "\n",
              "    .dataframe thead th {\n",
              "        text-align: right;\n",
              "    }\n",
              "</style>\n",
              "<table border=\"1\" class=\"dataframe\">\n",
              "  <thead>\n",
              "    <tr style=\"text-align: right;\">\n",
              "      <th></th>\n",
              "      <th>Rating</th>\n",
              "      <th>Number of ratings</th>\n",
              "      <th>Price</th>\n",
              "      <th>Dangerous permissions count</th>\n",
              "      <th>Safe permissions count</th>\n",
              "      <th>Default : Access DRM content. (S)</th>\n",
              "      <th>Default : Access Email provider data (S)</th>\n",
              "      <th>Default : Access all system downloads (S)</th>\n",
              "      <th>Default : Access download manager. (S)</th>\n",
              "      <th>Default : Advanced download manager functions. (S)</th>\n",
              "      <th>...</th>\n",
              "      <th>Your personal information : read calendar events (D)</th>\n",
              "      <th>Your personal information : read contact data (D)</th>\n",
              "      <th>Your personal information : read sensitive log data (D)</th>\n",
              "      <th>Your personal information : read user defined dictionary (D)</th>\n",
              "      <th>Your personal information : retrieve system internal state (S)</th>\n",
              "      <th>Your personal information : set alarm in alarm clock (S)</th>\n",
              "      <th>Your personal information : write Browser's history and bookmarks (D)</th>\n",
              "      <th>Your personal information : write contact data (D)</th>\n",
              "      <th>Your personal information : write to user defined dictionary (S)</th>\n",
              "      <th>Class</th>\n",
              "    </tr>\n",
              "    <tr>\n",
              "      <th>App</th>\n",
              "      <th></th>\n",
              "      <th></th>\n",
              "      <th></th>\n",
              "      <th></th>\n",
              "      <th></th>\n",
              "      <th></th>\n",
              "      <th></th>\n",
              "      <th></th>\n",
              "      <th></th>\n",
              "      <th></th>\n",
              "      <th></th>\n",
              "      <th></th>\n",
              "      <th></th>\n",
              "      <th></th>\n",
              "      <th></th>\n",
              "      <th></th>\n",
              "      <th></th>\n",
              "      <th></th>\n",
              "      <th></th>\n",
              "      <th></th>\n",
              "      <th></th>\n",
              "    </tr>\n",
              "  </thead>\n",
              "  <tbody>\n",
              "    <tr>\n",
              "      <th>Canada Post Corporation</th>\n",
              "      <td>3.1</td>\n",
              "      <td>77</td>\n",
              "      <td>0.00</td>\n",
              "      <td>7.0</td>\n",
              "      <td>1</td>\n",
              "      <td>0</td>\n",
              "      <td>0</td>\n",
              "      <td>0</td>\n",
              "      <td>0</td>\n",
              "      <td>0</td>\n",
              "      <td>...</td>\n",
              "      <td>0</td>\n",
              "      <td>1</td>\n",
              "      <td>0</td>\n",
              "      <td>0</td>\n",
              "      <td>0</td>\n",
              "      <td>0</td>\n",
              "      <td>0</td>\n",
              "      <td>1</td>\n",
              "      <td>0</td>\n",
              "      <td>0</td>\n",
              "    </tr>\n",
              "    <tr>\n",
              "      <th>Word Farm</th>\n",
              "      <td>4.3</td>\n",
              "      <td>199</td>\n",
              "      <td>0.00</td>\n",
              "      <td>3.0</td>\n",
              "      <td>2</td>\n",
              "      <td>0</td>\n",
              "      <td>0</td>\n",
              "      <td>0</td>\n",
              "      <td>0</td>\n",
              "      <td>0</td>\n",
              "      <td>...</td>\n",
              "      <td>0</td>\n",
              "      <td>0</td>\n",
              "      <td>0</td>\n",
              "      <td>0</td>\n",
              "      <td>0</td>\n",
              "      <td>0</td>\n",
              "      <td>0</td>\n",
              "      <td>0</td>\n",
              "      <td>0</td>\n",
              "      <td>0</td>\n",
              "    </tr>\n",
              "    <tr>\n",
              "      <th>Fortunes of War FREE</th>\n",
              "      <td>4.1</td>\n",
              "      <td>243</td>\n",
              "      <td>0.00</td>\n",
              "      <td>1.0</td>\n",
              "      <td>1</td>\n",
              "      <td>0</td>\n",
              "      <td>0</td>\n",
              "      <td>0</td>\n",
              "      <td>0</td>\n",
              "      <td>0</td>\n",
              "      <td>...</td>\n",
              "      <td>0</td>\n",
              "      <td>0</td>\n",
              "      <td>0</td>\n",
              "      <td>0</td>\n",
              "      <td>0</td>\n",
              "      <td>0</td>\n",
              "      <td>0</td>\n",
              "      <td>0</td>\n",
              "      <td>0</td>\n",
              "      <td>0</td>\n",
              "    </tr>\n",
              "    <tr>\n",
              "      <th>Better Keyboard: Avatar Purple</th>\n",
              "      <td>3.6</td>\n",
              "      <td>2589</td>\n",
              "      <td>0.00</td>\n",
              "      <td>0.0</td>\n",
              "      <td>0</td>\n",
              "      <td>0</td>\n",
              "      <td>0</td>\n",
              "      <td>0</td>\n",
              "      <td>0</td>\n",
              "      <td>0</td>\n",
              "      <td>...</td>\n",
              "      <td>0</td>\n",
              "      <td>0</td>\n",
              "      <td>0</td>\n",
              "      <td>0</td>\n",
              "      <td>0</td>\n",
              "      <td>0</td>\n",
              "      <td>0</td>\n",
              "      <td>0</td>\n",
              "      <td>0</td>\n",
              "      <td>0</td>\n",
              "    </tr>\n",
              "    <tr>\n",
              "      <th>Boxing Day</th>\n",
              "      <td>0.0</td>\n",
              "      <td>0</td>\n",
              "      <td>5.99</td>\n",
              "      <td>1.0</td>\n",
              "      <td>0</td>\n",
              "      <td>0</td>\n",
              "      <td>0</td>\n",
              "      <td>0</td>\n",
              "      <td>0</td>\n",
              "      <td>0</td>\n",
              "      <td>...</td>\n",
              "      <td>0</td>\n",
              "      <td>0</td>\n",
              "      <td>0</td>\n",
              "      <td>0</td>\n",
              "      <td>0</td>\n",
              "      <td>0</td>\n",
              "      <td>0</td>\n",
              "      <td>0</td>\n",
              "      <td>0</td>\n",
              "      <td>1</td>\n",
              "    </tr>\n",
              "  </tbody>\n",
              "</table>\n",
              "<p>5 rows × 179 columns</p>\n",
              "</div>\n",
              "      <button class=\"colab-df-convert\" onclick=\"convertToInteractive('df-32453076-c45b-47e0-b4f2-d51004fa71df')\"\n",
              "              title=\"Convert this dataframe to an interactive table.\"\n",
              "              style=\"display:none;\">\n",
              "        \n",
              "  <svg xmlns=\"http://www.w3.org/2000/svg\" height=\"24px\"viewBox=\"0 0 24 24\"\n",
              "       width=\"24px\">\n",
              "    <path d=\"M0 0h24v24H0V0z\" fill=\"none\"/>\n",
              "    <path d=\"M18.56 5.44l.94 2.06.94-2.06 2.06-.94-2.06-.94-.94-2.06-.94 2.06-2.06.94zm-11 1L8.5 8.5l.94-2.06 2.06-.94-2.06-.94L8.5 2.5l-.94 2.06-2.06.94zm10 10l.94 2.06.94-2.06 2.06-.94-2.06-.94-.94-2.06-.94 2.06-2.06.94z\"/><path d=\"M17.41 7.96l-1.37-1.37c-.4-.4-.92-.59-1.43-.59-.52 0-1.04.2-1.43.59L10.3 9.45l-7.72 7.72c-.78.78-.78 2.05 0 2.83L4 21.41c.39.39.9.59 1.41.59.51 0 1.02-.2 1.41-.59l7.78-7.78 2.81-2.81c.8-.78.8-2.07 0-2.86zM5.41 20L4 18.59l7.72-7.72 1.47 1.35L5.41 20z\"/>\n",
              "  </svg>\n",
              "      </button>\n",
              "      \n",
              "  <style>\n",
              "    .colab-df-container {\n",
              "      display:flex;\n",
              "      flex-wrap:wrap;\n",
              "      gap: 12px;\n",
              "    }\n",
              "\n",
              "    .colab-df-convert {\n",
              "      background-color: #E8F0FE;\n",
              "      border: none;\n",
              "      border-radius: 50%;\n",
              "      cursor: pointer;\n",
              "      display: none;\n",
              "      fill: #1967D2;\n",
              "      height: 32px;\n",
              "      padding: 0 0 0 0;\n",
              "      width: 32px;\n",
              "    }\n",
              "\n",
              "    .colab-df-convert:hover {\n",
              "      background-color: #E2EBFA;\n",
              "      box-shadow: 0px 1px 2px rgba(60, 64, 67, 0.3), 0px 1px 3px 1px rgba(60, 64, 67, 0.15);\n",
              "      fill: #174EA6;\n",
              "    }\n",
              "\n",
              "    [theme=dark] .colab-df-convert {\n",
              "      background-color: #3B4455;\n",
              "      fill: #D2E3FC;\n",
              "    }\n",
              "\n",
              "    [theme=dark] .colab-df-convert:hover {\n",
              "      background-color: #434B5C;\n",
              "      box-shadow: 0px 1px 3px 1px rgba(0, 0, 0, 0.15);\n",
              "      filter: drop-shadow(0px 1px 2px rgba(0, 0, 0, 0.3));\n",
              "      fill: #FFFFFF;\n",
              "    }\n",
              "  </style>\n",
              "\n",
              "      <script>\n",
              "        const buttonEl =\n",
              "          document.querySelector('#df-32453076-c45b-47e0-b4f2-d51004fa71df button.colab-df-convert');\n",
              "        buttonEl.style.display =\n",
              "          google.colab.kernel.accessAllowed ? 'block' : 'none';\n",
              "\n",
              "        async function convertToInteractive(key) {\n",
              "          const element = document.querySelector('#df-32453076-c45b-47e0-b4f2-d51004fa71df');\n",
              "          const dataTable =\n",
              "            await google.colab.kernel.invokeFunction('convertToInteractive',\n",
              "                                                     [key], {});\n",
              "          if (!dataTable) return;\n",
              "\n",
              "          const docLinkHtml = 'Like what you see? Visit the ' +\n",
              "            '<a target=\"_blank\" href=https://colab.research.google.com/notebooks/data_table.ipynb>data table notebook</a>'\n",
              "            + ' to learn more about interactive tables.';\n",
              "          element.innerHTML = '';\n",
              "          dataTable['output_type'] = 'display_data';\n",
              "          await google.colab.output.renderOutput(dataTable, element);\n",
              "          const docLink = document.createElement('div');\n",
              "          docLink.innerHTML = docLinkHtml;\n",
              "          element.appendChild(docLink);\n",
              "        }\n",
              "      </script>\n",
              "    </div>\n",
              "  </div>\n",
              "  "
            ]
          },
          "metadata": {},
          "execution_count": 79
        }
      ]
    },
    {
      "cell_type": "code",
      "source": [
        "X = new_df.drop('Class', axis = 1)"
      ],
      "metadata": {
        "id": "A-Fb367CK1v3"
      },
      "execution_count": 109,
      "outputs": []
    },
    {
      "cell_type": "code",
      "source": [
        "y = new_df['Class'].values.reshape(-1,1)"
      ],
      "metadata": {
        "id": "WXrx2wC9K8lX"
      },
      "execution_count": 110,
      "outputs": []
    },
    {
      "cell_type": "code",
      "source": [
        "y[0:5]"
      ],
      "metadata": {
        "colab": {
          "base_uri": "https://localhost:8080/"
        },
        "id": "CKmLK_VPOnVM",
        "outputId": "f8bc209f-69ca-48d8-fa61-47ef0fc049d1"
      },
      "execution_count": 111,
      "outputs": [
        {
          "output_type": "execute_result",
          "data": {
            "text/plain": [
              "array([[0],\n",
              "       [0],\n",
              "       [0],\n",
              "       [0],\n",
              "       [1]])"
            ]
          },
          "metadata": {},
          "execution_count": 111
        }
      ]
    },
    {
      "cell_type": "code",
      "source": [
        "from sklearn.metrics import plot_confusion_matrix, classification_report,accuracy_score"
      ],
      "metadata": {
        "id": "b4P-BphCHnrD"
      },
      "execution_count": 80,
      "outputs": []
    },
    {
      "cell_type": "code",
      "source": [
        "# Importing sklearn packages:\n",
        "from sklearn.model_selection import train_test_split\n",
        "from sklearn.tree import DecisionTreeClassifier"
      ],
      "metadata": {
        "id": "ItxX89IhJf6I"
      },
      "execution_count": 82,
      "outputs": []
    },
    {
      "cell_type": "code",
      "source": [
        "X_train, X_test, y_train, y_test = train_test_split(X, y, test_size=0.33, random_state=20)"
      ],
      "metadata": {
        "id": "QSCAYhmyKvLC"
      },
      "execution_count": 112,
      "outputs": []
    },
    {
      "cell_type": "code",
      "source": [
        "decisiontree = DecisionTreeClassifier()"
      ],
      "metadata": {
        "id": "U6KLoyuAJ8Rf"
      },
      "execution_count": 118,
      "outputs": []
    },
    {
      "cell_type": "code",
      "source": [
        "decisiontree.fit(X_train, y_train)"
      ],
      "metadata": {
        "colab": {
          "base_uri": "https://localhost:8080/"
        },
        "id": "R52oLKfmN5E5",
        "outputId": "3283443e-dd6a-42df-8289-3b7274ca6049"
      },
      "execution_count": 119,
      "outputs": [
        {
          "output_type": "execute_result",
          "data": {
            "text/plain": [
              "DecisionTreeClassifier()"
            ]
          },
          "metadata": {},
          "execution_count": 119
        }
      ]
    },
    {
      "cell_type": "code",
      "source": [
        "y_pred = decisiontree.predict(X_test)"
      ],
      "metadata": {
        "id": "VoFgrcSsLQYg"
      },
      "execution_count": 120,
      "outputs": []
    },
    {
      "cell_type": "code",
      "source": [
        "print(classification_report(y_test,y_pred))"
      ],
      "metadata": {
        "colab": {
          "base_uri": "https://localhost:8080/"
        },
        "id": "OPPAeDkjPZm8",
        "outputId": "b868ba08-f251-47cc-c74d-ba3203537e8f"
      },
      "execution_count": 124,
      "outputs": [
        {
          "output_type": "stream",
          "name": "stdout",
          "text": [
            "              precision    recall  f1-score   support\n",
            "\n",
            "           0       0.50      0.51      0.50      2974\n",
            "           1       0.75      0.75      0.75      6038\n",
            "\n",
            "    accuracy                           0.67      9012\n",
            "   macro avg       0.63      0.63      0.63      9012\n",
            "weighted avg       0.67      0.67      0.67      9012\n",
            "\n"
          ]
        }
      ]
    },
    {
      "cell_type": "code",
      "source": [
        "plot_confusion_matrix(decisiontree,X_test,y_test)"
      ],
      "metadata": {
        "colab": {
          "base_uri": "https://localhost:8080/",
          "height": 354
        },
        "id": "SFtB5_EiOZ3Z",
        "outputId": "20abc078-21cc-4aa8-e7a0-6d29ec6d1f7b"
      },
      "execution_count": 126,
      "outputs": [
        {
          "output_type": "stream",
          "name": "stderr",
          "text": [
            "/usr/local/lib/python3.7/dist-packages/sklearn/utils/deprecation.py:87: FutureWarning: Function plot_confusion_matrix is deprecated; Function `plot_confusion_matrix` is deprecated in 1.0 and will be removed in 1.2. Use one of the class methods: ConfusionMatrixDisplay.from_predictions or ConfusionMatrixDisplay.from_estimator.\n",
            "  warnings.warn(msg, category=FutureWarning)\n"
          ]
        },
        {
          "output_type": "execute_result",
          "data": {
            "text/plain": [
              "<sklearn.metrics._plot.confusion_matrix.ConfusionMatrixDisplay at 0x7fdb7ed2cc90>"
            ]
          },
          "metadata": {},
          "execution_count": 126
        },
        {
          "output_type": "display_data",
          "data": {
            "text/plain": [
              "<Figure size 432x288 with 2 Axes>"
            ],
            "image/png": "[encoded data removed]"
          },
          "metadata": {
            "needs_background": "light"
          }
        }
      ]
    },
    {
      "cell_type": "markdown",
      "source": [
        "Decision Tree Classifier is not working well. Lwt's explore other models."
      ],
      "metadata": {
        "id": "zHpUTr70Qohi"
      }
    },
    {
      "cell_type": "code",
      "source": [
        ""
      ],
      "metadata": {
        "id": "1PSCXQXgOjjl"
      },
      "execution_count": null,
      "outputs": []
    }
  ]
}